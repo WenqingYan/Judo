{
 "cells": [
  {
   "cell_type": "code",
   "execution_count": 2,
   "metadata": {
    "ExecuteTime": {
     "end_time": "2021-09-05T10:52:57.455171Z",
     "start_time": "2021-09-05T10:52:56.812918Z"
    }
   },
   "outputs": [],
   "source": [
    "%run basicOp.py\n",
    "import pandas as pd\n",
    "from io import StringIO\n",
    "import matplotlib.pyplot as plt\n",
    "import numpy as np\n",
    "from numpy import NaN\n",
    "import matplotlib\n",
    "from scipy.ndimage.filters import gaussian_filter1d\n",
    "from pylab import rcParams\n",
    "\n",
    "#%matplotlib widget, camera ready submission problem\n",
    "matplotlib.rc('pdf', fonttype=42)\n",
    "matplotlib.rcParams['savefig.dpi'] = 300\n",
    "rcParams.update({'figure.autolayout': True})"
   ]
  },
  {
   "cell_type": "code",
   "execution_count": 3,
   "metadata": {
    "ExecuteTime": {
     "end_time": "2021-09-05T10:52:57.470997Z",
     "start_time": "2021-09-05T10:52:57.465565Z"
    }
   },
   "outputs": [],
   "source": [
    "df_BER = pd.DataFrame(columns=[\"Free running - baseline\", \"Free running - people walks around\", \"Injection locked - baseline\", \"Injection locked - people walks around\"], index=[\"Round_1\", \"Round_2\", \"Round_3\"])"
   ]
  },
  {
   "cell_type": "code",
   "execution_count": 4,
   "metadata": {
    "ExecuteTime": {
     "end_time": "2021-09-05T10:52:57.494200Z",
     "start_time": "2021-09-05T10:52:57.486987Z"
    }
   },
   "outputs": [],
   "source": [
    "df_BER.iloc[:, 0] = [round(i, 6) for i in [0.028257650542941756, 0.030357318957299234, 0.02837312113174182]]\n",
    "df_BER.iloc[:, 1] = [round(i, 6) for i in [0.2792907523510972, NaN, NaN]]\n",
    "df_BER.iloc[:, 2] = [round(i, 6) for i in [0.00020258620689655172, 6.944444444444445e-06, 6.944444444444445e-06]]\n",
    "df_BER.iloc[:, 3] = [round(i, 6) for i in [0.0002413793103448276, 9.051724137931034e-05, 0.0009008620689655172]]"
   ]
  },
  {
   "cell_type": "code",
   "execution_count": 5,
   "metadata": {
    "ExecuteTime": {
     "end_time": "2021-09-05T10:52:57.524988Z",
     "start_time": "2021-09-05T10:52:57.511413Z"
    }
   },
   "outputs": [
    {
     "data": {
      "text/html": [
       "<div>\n",
       "<style scoped>\n",
       "    .dataframe tbody tr th:only-of-type {\n",
       "        vertical-align: middle;\n",
       "    }\n",
       "\n",
       "    .dataframe tbody tr th {\n",
       "        vertical-align: top;\n",
       "    }\n",
       "\n",
       "    .dataframe thead th {\n",
       "        text-align: right;\n",
       "    }\n",
       "</style>\n",
       "<table border=\"1\" class=\"dataframe\">\n",
       "  <thead>\n",
       "    <tr style=\"text-align: right;\">\n",
       "      <th></th>\n",
       "      <th>Free running - baseline</th>\n",
       "      <th>Free running - people walks around</th>\n",
       "      <th>Injection locked - baseline</th>\n",
       "      <th>Injection locked - people walks around</th>\n",
       "    </tr>\n",
       "  </thead>\n",
       "  <tbody>\n",
       "    <tr>\n",
       "      <th>Round_1</th>\n",
       "      <td>0.028258</td>\n",
       "      <td>0.279291</td>\n",
       "      <td>0.000203</td>\n",
       "      <td>0.000241</td>\n",
       "    </tr>\n",
       "    <tr>\n",
       "      <th>Round_2</th>\n",
       "      <td>0.030357</td>\n",
       "      <td>NaN</td>\n",
       "      <td>0.000007</td>\n",
       "      <td>0.000091</td>\n",
       "    </tr>\n",
       "    <tr>\n",
       "      <th>Round_3</th>\n",
       "      <td>0.028373</td>\n",
       "      <td>NaN</td>\n",
       "      <td>0.000007</td>\n",
       "      <td>0.000901</td>\n",
       "    </tr>\n",
       "  </tbody>\n",
       "</table>\n",
       "</div>"
      ],
      "text/plain": [
       "         Free running - baseline  Free running - people walks around  \\\n",
       "Round_1                 0.028258                            0.279291   \n",
       "Round_2                 0.030357                                 NaN   \n",
       "Round_3                 0.028373                                 NaN   \n",
       "\n",
       "         Injection locked - baseline  Injection locked - people walks around  \n",
       "Round_1                     0.000203                                0.000241  \n",
       "Round_2                     0.000007                                0.000091  \n",
       "Round_3                     0.000007                                0.000901  "
      ]
     },
     "execution_count": 5,
     "metadata": {},
     "output_type": "execute_result"
    }
   ],
   "source": [
    "df_BER"
   ]
  },
  {
   "cell_type": "code",
   "execution_count": 6,
   "metadata": {
    "ExecuteTime": {
     "end_time": "2021-09-05T10:52:57.647230Z",
     "start_time": "2021-09-05T10:52:57.641545Z"
    }
   },
   "outputs": [
    {
     "data": {
      "text/plain": [
       "Free running - baseline                   0.028996\n",
       "Free running - people walks around        0.279291\n",
       "Injection locked - baseline               0.000072\n",
       "Injection locked - people walks around    0.000411\n",
       "dtype: float64"
      ]
     },
     "execution_count": 6,
     "metadata": {},
     "output_type": "execute_result"
    }
   ],
   "source": [
    "df_BER.mean()"
   ]
  },
  {
   "cell_type": "code",
   "execution_count": 9,
   "metadata": {
    "ExecuteTime": {
     "end_time": "2021-09-05T10:53:21.456184Z",
     "start_time": "2021-09-05T10:53:21.060079Z"
    }
   },
   "outputs": [
    {
     "data": {
      "image/png": "[encoded data removed]",
      "text/plain": [
       "<Figure size 576x216 with 1 Axes>"
      ]
     },
     "metadata": {
      "needs_background": "light"
     },
     "output_type": "display_data"
    }
   ],
   "source": [
    "# Example grouped bar chart\n",
    "from pylab import rcParams\n",
    "import matplotlib as mpl\n",
    "\n",
    "rcParams['figure.figsize'] = 8, 3\n",
    "fig, ax1 = plt.subplots(1)\n",
    "# change hatch parameters\n",
    "mpl.rc('hatch', linewidth=2)\n",
    "\n",
    "labels = [\"Backsplatter (unaided)\", \"Backsplatter (aided)\"]\n",
    "x = np.arange(len(labels))  # the label locations\n",
    "\n",
    "width = 0.2\n",
    "\n",
    "ax1.bar(x-width/2, df_BER.iloc[:, [0,2]].mean(), color='none', edgecolor='#77A136', width=width, hatch=\"/\", label=\"Baseline\", zorder=0)\n",
    "ax1.bar(x+width/2, df_BER.iloc[:,[1,3]].mean(), color='none', edgecolor='red', width=width, hatch=\"x\", label=\"Dynamic\", linewidth=2, zorder=0)\n",
    "\n",
    "ax1.bar(x-width/2, df_BER.iloc[:, [0,2]].mean(), color='none', edgecolor='black', width=width, linewidth=2.2, zorder=1)\n",
    "ax1.bar(x+width/2, df_BER.iloc[:,[1,3]].mean(), color='none', edgecolor='black', width=width, linewidth=2.2, zorder=1)\n",
    "\n",
    "ax1.set_yscale('log')\n",
    "tmp = [-6, -5, -4, -3, -2, -1, 0]\n",
    "tmp = ['{:f}'.format(10**i).rstrip('0').rstrip('.') for i in tmp]\n",
    "ax1.set_yticklabels(tmp)\n",
    "\n",
    "ax1.grid()\n",
    "# ax1.set_xlabel('Carrier emitter signal strength [dBm]', fontsize=16)\n",
    "ax1.set_xticks(x)\n",
    "ax1.set_xticklabels(labels)\n",
    "ax1.set_ylabel(\"BER\", fontsize=18)\n",
    "ax1.tick_params(labelsize=14)\n",
    "ax1.set_xlim([-0.5, 1.5])\n",
    "\n",
    "ax1.legend(fontsize=18, framealpha=0.3)\n",
    "plt.savefig('./reliability.pdf')"
   ]
  },
  {
   "cell_type": "code",
   "execution_count": null,
   "metadata": {},
   "outputs": [],
   "source": []
  }
 ],
 "metadata": {
  "kernelspec": {
   "display_name": "Python 3",
   "language": "python",
   "name": "python3"
  },
  "language_info": {
   "codemirror_mode": {
    "name": "ipython",
    "version": 3
   },
   "file_extension": ".py",
   "mimetype": "text/x-python",
   "name": "python",
   "nbconvert_exporter": "python",
   "pygments_lexer": "ipython3",
   "version": "3.7.6"
  },
  "toc": {
   "base_numbering": 1,
   "nav_menu": {},
   "number_sections": true,
   "sideBar": true,
   "skip_h1_title": false,
   "title_cell": "Table of Contents",
   "title_sidebar": "Contents",
   "toc_cell": false,
   "toc_position": {},
   "toc_section_display": true,
   "toc_window_display": false
  },
  "varInspector": {
   "cols": {
    "lenName": 16,
    "lenType": 16,
    "lenVar": 40
   },
   "kernels_config": {
    "python": {
     "delete_cmd_postfix": "",
     "delete_cmd_prefix": "del ",
     "library": "var_list.py",
     "varRefreshCmd": "print(var_dic_list())"
    },
    "r": {
     "delete_cmd_postfix": ") ",
     "delete_cmd_prefix": "rm(",
     "library": "var_list.r",
     "varRefreshCmd": "cat(var_dic_list()) "
    }
   },
   "types_to_exclude": [
    "module",
    "function",
    "builtin_function_or_method",
    "instance",
    "_Feature"
   ],
   "window_display": false
  }
 },
 "nbformat": 4,
 "nbformat_minor": 4
}
