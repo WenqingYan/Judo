{
 "cells": [
  {
   "cell_type": "code",
   "execution_count": 5,
   "metadata": {
    "ExecuteTime": {
     "end_time": "2021-05-17T09:14:13.608976Z",
     "start_time": "2021-05-17T09:14:12.973068Z"
    }
   },
   "outputs": [],
   "source": [
    "import pandas as pd\n",
    "from io import StringIO\n",
    "import matplotlib.pyplot as plt\n",
    "import numpy as np\n",
    "from numpy import NaN\n",
    "\n",
    "from scipy.signal import find_peaks\n",
    "\n",
    "import matplotlib\n",
    "from pylab import rcParams\n",
    "#%matplotlib widget, camera ready submission problem\n",
    "matplotlib.rc('pdf', fonttype=42)\n",
    "matplotlib.rcParams['savefig.dpi'] = 300\n",
    "rcParams.update({'figure.autolayout': True})\n",
    "\n",
    "def readfile(filename):\n",
    "    types = {'frequency': float,'power': float}\n",
    "    df = pd.read_csv(filename, skiprows=0, header=None, error_bad_lines=False, delim_whitespace=False, delimiter=' ')\n",
    "    df.columns = ['frequency', 'power']\n",
    "    df.dropna(inplace=True)\n",
    "    #print(df.describe())\n",
    "    return df"
   ]
  },
  {
   "cell_type": "markdown",
   "metadata": {},
   "source": [
    "# 90m"
   ]
  },
  {
   "cell_type": "code",
   "execution_count": 6,
   "metadata": {
    "ExecuteTime": {
     "end_time": "2021-05-17T09:14:13.633679Z",
     "start_time": "2021-05-17T09:14:13.620269Z"
    }
   },
   "outputs": [
    {
     "data": {
      "text/html": [
       "<div>\n",
       "<style scoped>\n",
       "    .dataframe tbody tr th:only-of-type {\n",
       "        vertical-align: middle;\n",
       "    }\n",
       "\n",
       "    .dataframe tbody tr th {\n",
       "        vertical-align: top;\n",
       "    }\n",
       "\n",
       "    .dataframe thead th {\n",
       "        text-align: right;\n",
       "    }\n",
       "</style>\n",
       "<table border=\"1\" class=\"dataframe\">\n",
       "  <thead>\n",
       "    <tr style=\"text-align: right;\">\n",
       "      <th></th>\n",
       "      <th>15m</th>\n",
       "      <th>30m</th>\n",
       "      <th>45m</th>\n",
       "      <th>90m</th>\n",
       "    </tr>\n",
       "  </thead>\n",
       "  <tbody>\n",
       "    <tr>\n",
       "      <th>BER(%)</th>\n",
       "      <td>0.0079</td>\n",
       "      <td>0.0174</td>\n",
       "      <td>0.022</td>\n",
       "      <td>0.0458</td>\n",
       "    </tr>\n",
       "  </tbody>\n",
       "</table>\n",
       "</div>"
      ],
      "text/plain": [
       "           15m     30m    45m     90m\n",
       "BER(%)  0.0079  0.0174  0.022  0.0458"
      ]
     },
     "execution_count": 6,
     "metadata": {},
     "output_type": "execute_result"
    }
   ],
   "source": [
    "df_1 = pd.DataFrame(columns=[\"15m\", \"30m\", \"45m\", \"90m\"], index=[\"BER(%)\"])\n",
    "BER = [0.007879310344827585, 0.017435344827586206, 0.022, 0.04579310344827586]\n",
    "df_1.iloc[0,:] = [round(i, 4) for i in BER]\n",
    "df_1"
   ]
  },
  {
   "cell_type": "markdown",
   "metadata": {},
   "source": [
    "# 150m"
   ]
  },
  {
   "cell_type": "code",
   "execution_count": 7,
   "metadata": {
    "ExecuteTime": {
     "end_time": "2021-05-17T09:14:14.431995Z",
     "start_time": "2021-05-17T09:14:14.421391Z"
    }
   },
   "outputs": [
    {
     "data": {
      "text/html": [
       "<div>\n",
       "<style scoped>\n",
       "    .dataframe tbody tr th:only-of-type {\n",
       "        vertical-align: middle;\n",
       "    }\n",
       "\n",
       "    .dataframe tbody tr th {\n",
       "        vertical-align: top;\n",
       "    }\n",
       "\n",
       "    .dataframe thead th {\n",
       "        text-align: right;\n",
       "    }\n",
       "</style>\n",
       "<table border=\"1\" class=\"dataframe\">\n",
       "  <thead>\n",
       "    <tr style=\"text-align: right;\">\n",
       "      <th></th>\n",
       "      <th>15</th>\n",
       "      <th>45</th>\n",
       "      <th>75</th>\n",
       "      <th>105</th>\n",
       "    </tr>\n",
       "  </thead>\n",
       "  <tbody>\n",
       "    <tr>\n",
       "      <th>0</th>\n",
       "      <td>0.0042</td>\n",
       "      <td>0.0099</td>\n",
       "      <td>0.0284</td>\n",
       "      <td>0.0582</td>\n",
       "    </tr>\n",
       "    <tr>\n",
       "      <th>1</th>\n",
       "      <td>0.0033</td>\n",
       "      <td>0.0068</td>\n",
       "      <td>0.0357</td>\n",
       "      <td>0.0441</td>\n",
       "    </tr>\n",
       "  </tbody>\n",
       "</table>\n",
       "</div>"
      ],
      "text/plain": [
       "      15      45      75      105\n",
       "0  0.0042  0.0099  0.0284  0.0582\n",
       "1  0.0033  0.0068  0.0357  0.0441"
      ]
     },
     "execution_count": 7,
     "metadata": {},
     "output_type": "execute_result"
    }
   ],
   "source": [
    "d =[15,45,75,105]\n",
    "df_2 = pd.DataFrame(columns=d, index=[0,1])\n",
    "BER = [0.004185344827586207, 0.009870689655172413, 0.02841810344827586, 0.05823706896551724]\n",
    "df_2.iloc[0,:] = [round(i, 4) for i in BER]\n",
    "BER = [0.003288793103448276, 0.0067629310344827585, 0.03573706896551724, 0.04407758620689655]\n",
    "df_2.iloc[1,:] = [round(i, 4) for i in BER]\n",
    "df_2"
   ]
  },
  {
   "cell_type": "code",
   "execution_count": 12,
   "metadata": {
    "ExecuteTime": {
     "end_time": "2021-05-17T09:20:38.399653Z",
     "start_time": "2021-05-17T09:20:38.144593Z"
    }
   },
   "outputs": [
    {
     "data": {
      "image/png": "[encoded data removed]",
      "text/plain": [
       "<Figure size 576x216 with 1 Axes>"
      ]
     },
     "metadata": {
      "needs_background": "light"
     },
     "output_type": "display_data"
    }
   ],
   "source": [
    "from pylab import rcParams\n",
    "rcParams['figure.figsize'] = 8, 3\n",
    "fig, ax1 = plt.subplots(1)\n",
    "\n",
    "ax1.plot([15, 30, 45, 90], df_1.iloc[0,:], color='black', marker='o', markersize=10, linewidth=4, label='90m')\n",
    "ax1.plot(d, df_2.mean(), color='#77A136', marker='o', markersize=10, linewidth=4, linestyle='--', label='150m')\n",
    "ax1.set_xlabel('Judo tag distance from carrier emitter [m]', fontsize=20)\n",
    "ax1.set_ylabel('BER', fontsize=20)\n",
    "ax1.tick_params(labelsize=14)\n",
    "\n",
    "tmp = [0,1,2,3,4,5,6]\n",
    "tmp = [i/100 for i in tmp]\n",
    "ax1.set_yticks(tmp)\n",
    "ax1.set_xticks(range(15,120,15))\n",
    "ax1.set_xlim([12,108])\n",
    "ax1.grid()\n",
    "\n",
    "plt.legend(fontsize=20)\n",
    "plt.tight_layout()\n",
    "plt.savefig('./outdoor.pdf')"
   ]
  },
  {
   "cell_type": "code",
   "execution_count": 9,
   "metadata": {
    "ExecuteTime": {
     "end_time": "2021-05-16T16:58:16.410080Z",
     "start_time": "2021-05-16T16:58:16.191888Z"
    }
   },
   "outputs": [
    {
     "ename": "NameError",
     "evalue": "name 'df' is not defined",
     "output_type": "error",
     "traceback": [
      "\u001b[0;31m---------------------------------------------------------------------------\u001b[0m",
      "\u001b[0;31mNameError\u001b[0m                                 Traceback (most recent call last)",
      "\u001b[0;32m/var/folders/y7/s8r49lvj1y7ckvhcx7d8jbbr0000gn/T/ipykernel_52932/3833863775.py\u001b[0m in \u001b[0;36m<module>\u001b[0;34m\u001b[0m\n\u001b[1;32m      3\u001b[0m \u001b[0mfig\u001b[0m\u001b[0;34m,\u001b[0m \u001b[0max1\u001b[0m \u001b[0;34m=\u001b[0m \u001b[0mplt\u001b[0m\u001b[0;34m.\u001b[0m\u001b[0msubplots\u001b[0m\u001b[0;34m(\u001b[0m\u001b[0;36m1\u001b[0m\u001b[0;34m)\u001b[0m\u001b[0;34m\u001b[0m\u001b[0;34m\u001b[0m\u001b[0m\n\u001b[1;32m      4\u001b[0m \u001b[0;34m\u001b[0m\u001b[0m\n\u001b[0;32m----> 5\u001b[0;31m \u001b[0max1\u001b[0m\u001b[0;34m.\u001b[0m\u001b[0mplot\u001b[0m\u001b[0;34m(\u001b[0m\u001b[0md\u001b[0m\u001b[0;34m,\u001b[0m \u001b[0mdf\u001b[0m\u001b[0;34m.\u001b[0m\u001b[0mmean\u001b[0m\u001b[0;34m(\u001b[0m\u001b[0;34m)\u001b[0m\u001b[0;34m,\u001b[0m \u001b[0mcolor\u001b[0m\u001b[0;34m=\u001b[0m\u001b[0;34m'black'\u001b[0m\u001b[0;34m,\u001b[0m \u001b[0mmarker\u001b[0m\u001b[0;34m=\u001b[0m\u001b[0;34m'o'\u001b[0m\u001b[0;34m,\u001b[0m \u001b[0mmarkersize\u001b[0m\u001b[0;34m=\u001b[0m\u001b[0;36m10\u001b[0m\u001b[0;34m,\u001b[0m \u001b[0mlinewidth\u001b[0m\u001b[0;34m=\u001b[0m\u001b[0;36m4\u001b[0m\u001b[0;34m)\u001b[0m\u001b[0;34m\u001b[0m\u001b[0;34m\u001b[0m\u001b[0m\n\u001b[0m\u001b[1;32m      6\u001b[0m \u001b[0max1\u001b[0m\u001b[0;34m.\u001b[0m\u001b[0mset_xlabel\u001b[0m\u001b[0;34m(\u001b[0m\u001b[0;34m'Backsplatter tag distance from carrier emitter [m]'\u001b[0m\u001b[0;34m,\u001b[0m \u001b[0mfontsize\u001b[0m\u001b[0;34m=\u001b[0m\u001b[0;36m15\u001b[0m\u001b[0;34m)\u001b[0m\u001b[0;34m\u001b[0m\u001b[0;34m\u001b[0m\u001b[0m\n\u001b[1;32m      7\u001b[0m \u001b[0max1\u001b[0m\u001b[0;34m.\u001b[0m\u001b[0mset_ylabel\u001b[0m\u001b[0;34m(\u001b[0m\u001b[0;34m'Bit error rate'\u001b[0m\u001b[0;34m,\u001b[0m \u001b[0mfontsize\u001b[0m\u001b[0;34m=\u001b[0m\u001b[0;36m15\u001b[0m\u001b[0;34m)\u001b[0m\u001b[0;34m\u001b[0m\u001b[0;34m\u001b[0m\u001b[0m\n",
      "\u001b[0;31mNameError\u001b[0m: name 'df' is not defined"
     ]
    },
    {
     "data": {
      "image/png": "[encoded data removed]",
      "text/plain": [
       "<Figure size 432x216 with 1 Axes>"
      ]
     },
     "metadata": {
      "needs_background": "light"
     },
     "output_type": "display_data"
    }
   ],
   "source": [
    "from pylab import rcParams\n",
    "rcParams['figure.figsize'] = 6, 3\n",
    "fig, ax1 = plt.subplots(1)\n",
    "\n",
    "ax1.plot(d, df.mean(), color='black', marker='o', markersize=10, linewidth=4)\n",
    "ax1.set_xlabel('Backsplatter tag distance from carrier emitter [m]', fontsize=15)\n",
    "ax1.set_ylabel('Bit error rate', fontsize=15)\n",
    "ax1.tick_params(labelsize=14)\n",
    "\n",
    "tmp = [0,1,2,3,4,5,6]\n",
    "tmp = [i/100 for i in tmp]\n",
    "ax1.set_yticks(tmp)\n",
    "ax1.set_xticks(range(15,120,15))\n",
    "ax1.set_xlim([12,108])\n",
    "ax1.grid()\n",
    "\n",
    "plt.tight_layout()\n",
    "plt.savefig('./outdoor_150m.pdf')"
   ]
  },
  {
   "cell_type": "markdown",
   "metadata": {},
   "source": []
  }
 ],
 "metadata": {
  "kernelspec": {
   "display_name": "Python 3 (ipykernel)",
   "language": "python",
   "name": "python3"
  },
  "language_info": {
   "codemirror_mode": {
    "name": "ipython",
    "version": 3
   },
   "file_extension": ".py",
   "mimetype": "text/x-python",
   "name": "python",
   "nbconvert_exporter": "python",
   "pygments_lexer": "ipython3",
   "version": "3.9.9"
  },
  "toc": {
   "base_numbering": 1,
   "nav_menu": {},
   "number_sections": true,
   "sideBar": true,
   "skip_h1_title": false,
   "title_cell": "Table of Contents",
   "title_sidebar": "Contents",
   "toc_cell": false,
   "toc_position": {},
   "toc_section_display": true,
   "toc_window_display": false
  },
  "varInspector": {
   "cols": {
    "lenName": 16,
    "lenType": 16,
    "lenVar": 40
   },
   "kernels_config": {
    "python": {
     "delete_cmd_postfix": "",
     "delete_cmd_prefix": "del ",
     "library": "var_list.py",
     "varRefreshCmd": "print(var_dic_list())"
    },
    "r": {
     "delete_cmd_postfix": ") ",
     "delete_cmd_prefix": "rm(",
     "library": "var_list.r",
     "varRefreshCmd": "cat(var_dic_list()) "
    }
   },
   "types_to_exclude": [
    "module",
    "function",
    "builtin_function_or_method",
    "instance",
    "_Feature"
   ],
   "window_display": false
  }
 },
 "nbformat": 4,
 "nbformat_minor": 4
}
