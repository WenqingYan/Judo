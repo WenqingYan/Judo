{
 "cells": [
  {
   "cell_type": "code",
   "execution_count": 1,
   "metadata": {
    "ExecuteTime": {
     "end_time": "2021-05-16T13:29:39.634900Z",
     "start_time": "2021-05-16T13:29:38.763784Z"
    }
   },
   "outputs": [],
   "source": [
    "import pandas as pd\n",
    "from io import StringIO\n",
    "import matplotlib.pyplot as plt\n",
    "import numpy as np\n",
    "from numpy import NaN\n",
    "\n",
    "from scipy.signal import find_peaks\n",
    "\n",
    "import matplotlib\n",
    "from pylab import rcParams\n",
    "#%matplotlib widget, camera ready submission problem\n",
    "matplotlib.rc('pdf', fonttype=42)\n",
    "matplotlib.rcParams['savefig.dpi'] = 300\n",
    "rcParams.update({'figure.autolayout': True})\n",
    "\n",
    "def readfile(filename):\n",
    "    types = {'frequency': float,'power': float}\n",
    "    df = pd.read_csv(filename, skiprows=0, header=None, error_bad_lines=False, delim_whitespace=False, delimiter=' ')\n",
    "    df.columns = ['frequency', 'power']\n",
    "    df.dropna(inplace=True)\n",
    "    #print(df.describe())\n",
    "    return df"
   ]
  },
  {
   "cell_type": "code",
   "execution_count": 2,
   "metadata": {
    "ExecuteTime": {
     "end_time": "2021-05-16T13:29:39.670947Z",
     "start_time": "2021-05-16T13:29:39.641033Z"
    }
   },
   "outputs": [],
   "source": [
    "# Read data\n",
    "Freq = [100, 250, 500, 1000, 2500, 5000, 10000]\n",
    "# Manually calibrate peak index for the case when tag signal is weak\n",
    "Index = [[1,2], [1,2], [1,2], [1,2], [1,2], [1,2], [3,4], [1,2], [3,4], [1,6]]\n",
    "Power = []\n",
    "for idx in range(7):\n",
    "    path = './experiment3/i' + str(idx+1)\n",
    "    filename = '/data0'\n",
    "    df = readfile(path + filename + \".csv\")\n",
    "    \n",
    "    x = df['power'].to_numpy()\n",
    "    peaks, _ = find_peaks(x)\n",
    "    a = sorted(x[peaks])[::-1]\n",
    "#     Power.append((a[Index[idx][0]] + a[Index[idx][0]])/2)\n",
    "    Power.append((a[1] + a[2])/2)"
   ]
  },
  {
   "cell_type": "code",
   "execution_count": 5,
   "metadata": {
    "ExecuteTime": {
     "end_time": "2021-05-16T13:31:06.025077Z",
     "start_time": "2021-05-16T13:31:05.775692Z"
    }
   },
   "outputs": [
    {
     "data": {
      "image/png": "[encoded data removed]",
      "text/plain": [
       "<Figure size 576x216 with 1 Axes>"
      ]
     },
     "metadata": {
      "needs_background": "light"
     },
     "output_type": "display_data"
    }
   ],
   "source": [
    "from pylab import rcParams\n",
    "rcParams['figure.figsize'] = 8, 3\n",
    "fig, ax1 = plt.subplots(1)\n",
    "\n",
    "ax1.plot(Freq, Power, color='black', linewidth=4)\n",
    "ax1.set_xlabel('Sinusoidal baseband signal frequency [kHz]', fontsize=15)\n",
    "ax1.set_ylabel('Mixed signal strength [dBm]', fontsize=12)\n",
    "ax1.tick_params(labelsize=14)\n",
    "ax1.set_ylim([-40, -30])\n",
    "ax1.grid()\n",
    "\n",
    "plt.tight_layout()\n",
    "plt.savefig('./figures/mixer_freq.pdf')"
   ]
  },
  {
   "cell_type": "code",
   "execution_count": null,
   "metadata": {},
   "outputs": [],
   "source": []
  }
 ],
 "metadata": {
  "kernelspec": {
   "display_name": "Python 3",
   "language": "python",
   "name": "python3"
  },
  "language_info": {
   "codemirror_mode": {
    "name": "ipython",
    "version": 3
   },
   "file_extension": ".py",
   "mimetype": "text/x-python",
   "name": "python",
   "nbconvert_exporter": "python",
   "pygments_lexer": "ipython3",
   "version": "3.7.6"
  },
  "toc": {
   "base_numbering": 1,
   "nav_menu": {},
   "number_sections": true,
   "sideBar": true,
   "skip_h1_title": false,
   "title_cell": "Table of Contents",
   "title_sidebar": "Contents",
   "toc_cell": false,
   "toc_position": {},
   "toc_section_display": true,
   "toc_window_display": false
  },
  "varInspector": {
   "cols": {
    "lenName": 16,
    "lenType": 16,
    "lenVar": 40
   },
   "kernels_config": {
    "python": {
     "delete_cmd_postfix": "",
     "delete_cmd_prefix": "del ",
     "library": "var_list.py",
     "varRefreshCmd": "print(var_dic_list())"
    },
    "r": {
     "delete_cmd_postfix": ") ",
     "delete_cmd_prefix": "rm(",
     "library": "var_list.r",
     "varRefreshCmd": "cat(var_dic_list()) "
    }
   },
   "types_to_exclude": [
    "module",
    "function",
    "builtin_function_or_method",
    "instance",
    "_Feature"
   ],
   "window_display": false
  }
 },
 "nbformat": 4,
 "nbformat_minor": 4
}
