{
 "cells": [
  {
   "cell_type": "code",
   "execution_count": 1,
   "metadata": {
    "ExecuteTime": {
     "end_time": "2021-09-05T10:37:22.080999Z",
     "start_time": "2021-09-05T10:37:21.173583Z"
    }
   },
   "outputs": [],
   "source": [
    "import pandas as pd\n",
    "from io import StringIO\n",
    "import matplotlib.pyplot as plt\n",
    "import numpy as np\n",
    "from numpy import NaN\n",
    "\n",
    "from scipy.signal import find_peaks\n",
    "\n",
    "import matplotlib\n",
    "from pylab import rcParams\n",
    "#%matplotlib widget, camera ready submission problem\n",
    "matplotlib.rc('pdf', fonttype=42)\n",
    "matplotlib.rcParams['savefig.dpi'] = 300\n",
    "rcParams.update({'figure.autolayout': True})\n",
    "\n",
    "def readfile(filename):\n",
    "    types = {'frequency': float,'power': float}\n",
    "    df = pd.read_csv(filename, skiprows=0, header=None, error_bad_lines=False, delim_whitespace=False, delimiter=' ')\n",
    "    df.columns = ['frequency', 'power']\n",
    "    df.dropna(inplace=True)\n",
    "    #print(df.describe())\n",
    "    return df"
   ]
  },
  {
   "cell_type": "markdown",
   "metadata": {},
   "source": [
    "# Static"
   ]
  },
  {
   "cell_type": "code",
   "execution_count": 2,
   "metadata": {
    "ExecuteTime": {
     "end_time": "2021-09-05T10:37:22.110046Z",
     "start_time": "2021-09-05T10:37:22.092357Z"
    }
   },
   "outputs": [
    {
     "data": {
      "text/html": [
       "<div>\n",
       "<style scoped>\n",
       "    .dataframe tbody tr th:only-of-type {\n",
       "        vertical-align: middle;\n",
       "    }\n",
       "\n",
       "    .dataframe tbody tr th {\n",
       "        vertical-align: top;\n",
       "    }\n",
       "\n",
       "    .dataframe thead th {\n",
       "        text-align: right;\n",
       "    }\n",
       "</style>\n",
       "<table border=\"1\" class=\"dataframe\">\n",
       "  <thead>\n",
       "    <tr style=\"text-align: right;\">\n",
       "      <th></th>\n",
       "      <th>floor 1</th>\n",
       "      <th>floor 2</th>\n",
       "      <th>same floor</th>\n",
       "      <th>floor 4</th>\n",
       "    </tr>\n",
       "  </thead>\n",
       "  <tbody>\n",
       "    <tr>\n",
       "      <th>0</th>\n",
       "      <td>0.124750</td>\n",
       "      <td>0.050746</td>\n",
       "      <td>0.001295</td>\n",
       "      <td>0.071545</td>\n",
       "    </tr>\n",
       "    <tr>\n",
       "      <th>1</th>\n",
       "      <td>0.067627</td>\n",
       "      <td>0.046877</td>\n",
       "      <td>0.002901</td>\n",
       "      <td>0.020289</td>\n",
       "    </tr>\n",
       "    <tr>\n",
       "      <th>2</th>\n",
       "      <td>0.090709</td>\n",
       "      <td>0.059004</td>\n",
       "      <td>0.001642</td>\n",
       "      <td>0.031974</td>\n",
       "    </tr>\n",
       "    <tr>\n",
       "      <th>3</th>\n",
       "      <td>0.090169</td>\n",
       "      <td>0.077509</td>\n",
       "      <td>0.019711</td>\n",
       "      <td>0.035569</td>\n",
       "    </tr>\n",
       "  </tbody>\n",
       "</table>\n",
       "</div>"
      ],
      "text/plain": [
       "    floor 1   floor 2  same floor   floor 4\n",
       "0  0.124750  0.050746    0.001295  0.071545\n",
       "1  0.067627  0.046877    0.002901  0.020289\n",
       "2  0.090709  0.059004    0.001642  0.031974\n",
       "3  0.090169  0.077509    0.019711  0.035569"
      ]
     },
     "execution_count": 2,
     "metadata": {},
     "output_type": "execute_result"
    }
   ],
   "source": [
    "BER = pd.DataFrame(columns=[\"floor 1\", \"floor 2\", \"same floor\", \"floor 4\"])\n",
    "\n",
    "BER.iloc[:, 0] = [round(i, 6) for i in [0.12475, 0.0676271551724138, 0.09070905172413793, 0.09016893068617207]]\n",
    "BER.iloc[:, 1] = [round(i, 6) for i in [0.05074568965517241, 0.046877155172413795, 0.05900431034482759, 0.07750862068965517]]\n",
    "BER.iloc[:, 2] = [round(i, 6) for i in [0.0012952586206896551, 0.002900862068965517, 0.0016422413793103449, 0.019711206896551724]]\n",
    "BER.iloc[:, 3] = [round(i, 6) for i in [0.07154525862068965, 0.020288793103448277, 0.031974137931034485, 0.03556896551724138]]\n",
    "\n",
    "BER"
   ]
  },
  {
   "cell_type": "code",
   "execution_count": 3,
   "metadata": {
    "ExecuteTime": {
     "end_time": "2021-09-05T10:37:22.146139Z",
     "start_time": "2021-09-05T10:37:22.130273Z"
    }
   },
   "outputs": [
    {
     "data": {
      "text/html": [
       "<div>\n",
       "<style scoped>\n",
       "    .dataframe tbody tr th:only-of-type {\n",
       "        vertical-align: middle;\n",
       "    }\n",
       "\n",
       "    .dataframe tbody tr th {\n",
       "        vertical-align: top;\n",
       "    }\n",
       "\n",
       "    .dataframe thead th {\n",
       "        text-align: right;\n",
       "    }\n",
       "</style>\n",
       "<table border=\"1\" class=\"dataframe\">\n",
       "  <thead>\n",
       "    <tr style=\"text-align: right;\">\n",
       "      <th></th>\n",
       "      <th>floor 1</th>\n",
       "      <th>floor 2</th>\n",
       "      <th>same floor</th>\n",
       "      <th>floor 4</th>\n",
       "    </tr>\n",
       "  </thead>\n",
       "  <tbody>\n",
       "    <tr>\n",
       "      <th>0</th>\n",
       "      <td>-110.792500</td>\n",
       "      <td>-106.830</td>\n",
       "      <td>-93.6940</td>\n",
       "      <td>-109.821</td>\n",
       "    </tr>\n",
       "    <tr>\n",
       "      <th>1</th>\n",
       "      <td>-107.035000</td>\n",
       "      <td>-104.422</td>\n",
       "      <td>-97.3745</td>\n",
       "      <td>-98.197</td>\n",
       "    </tr>\n",
       "    <tr>\n",
       "      <th>2</th>\n",
       "      <td>-110.878000</td>\n",
       "      <td>-104.968</td>\n",
       "      <td>-95.0790</td>\n",
       "      <td>-102.996</td>\n",
       "    </tr>\n",
       "    <tr>\n",
       "      <th>3</th>\n",
       "      <td>-110.983838</td>\n",
       "      <td>-110.110</td>\n",
       "      <td>-96.2940</td>\n",
       "      <td>-102.869</td>\n",
       "    </tr>\n",
       "  </tbody>\n",
       "</table>\n",
       "</div>"
      ],
      "text/plain": [
       "      floor 1  floor 2  same floor  floor 4\n",
       "0 -110.792500 -106.830    -93.6940 -109.821\n",
       "1 -107.035000 -104.422    -97.3745  -98.197\n",
       "2 -110.878000 -104.968    -95.0790 -102.996\n",
       "3 -110.983838 -110.110    -96.2940 -102.869"
      ]
     },
     "execution_count": 3,
     "metadata": {},
     "output_type": "execute_result"
    }
   ],
   "source": [
    "RSS = pd.DataFrame(columns=[\"floor 1\", \"floor 2\", \"same floor\", \"floor 4\"])\n",
    "\n",
    "RSS.iloc[:, 0] = [round(i, 6) for i in [-110.7925, -107.035, -110.878, -110.98383838383839]]\n",
    "RSS.iloc[:, 1] = [round(i, 6) for i in [-106.83, -104.422, -104.968, -110.11]]\n",
    "RSS.iloc[:, 2] = [round(i, 6) for i in [-93.694, -97.3745, -95.079, -96.294]]\n",
    "RSS.iloc[:, 3] = [round(i, 6) for i in [-109.821, -98.197, -102.996, -102.869]]\n",
    "\n",
    "RSS"
   ]
  },
  {
   "cell_type": "markdown",
   "metadata": {},
   "source": [
    "# Injection locking"
   ]
  },
  {
   "cell_type": "code",
   "execution_count": 4,
   "metadata": {
    "ExecuteTime": {
     "end_time": "2021-09-05T10:37:22.420447Z",
     "start_time": "2021-09-05T10:37:22.403769Z"
    }
   },
   "outputs": [
    {
     "data": {
      "text/html": [
       "<div>\n",
       "<style scoped>\n",
       "    .dataframe tbody tr th:only-of-type {\n",
       "        vertical-align: middle;\n",
       "    }\n",
       "\n",
       "    .dataframe tbody tr th {\n",
       "        vertical-align: top;\n",
       "    }\n",
       "\n",
       "    .dataframe thead th {\n",
       "        text-align: right;\n",
       "    }\n",
       "</style>\n",
       "<table border=\"1\" class=\"dataframe\">\n",
       "  <thead>\n",
       "    <tr style=\"text-align: right;\">\n",
       "      <th></th>\n",
       "      <th>floor 1</th>\n",
       "      <th>floor 2</th>\n",
       "      <th>same floor</th>\n",
       "      <th>floor 4</th>\n",
       "    </tr>\n",
       "  </thead>\n",
       "  <tbody>\n",
       "    <tr>\n",
       "      <th>0</th>\n",
       "      <td>0.062017</td>\n",
       "      <td>0.014448</td>\n",
       "      <td>0.003501</td>\n",
       "      <td>0.000696</td>\n",
       "    </tr>\n",
       "    <tr>\n",
       "      <th>1</th>\n",
       "      <td>0.026192</td>\n",
       "      <td>0.003011</td>\n",
       "      <td>0.008334</td>\n",
       "      <td>0.000060</td>\n",
       "    </tr>\n",
       "    <tr>\n",
       "      <th>2</th>\n",
       "      <td>0.014946</td>\n",
       "      <td>0.000810</td>\n",
       "      <td>0.000474</td>\n",
       "      <td>0.000162</td>\n",
       "    </tr>\n",
       "    <tr>\n",
       "      <th>3</th>\n",
       "      <td>0.055022</td>\n",
       "      <td>0.000537</td>\n",
       "      <td>0.000481</td>\n",
       "      <td>0.000539</td>\n",
       "    </tr>\n",
       "  </tbody>\n",
       "</table>\n",
       "</div>"
      ],
      "text/plain": [
       "    floor 1   floor 2  same floor   floor 4\n",
       "0  0.062017  0.014448    0.003501  0.000696\n",
       "1  0.026192  0.003011    0.008334  0.000060\n",
       "2  0.014946  0.000810    0.000474  0.000162\n",
       "3  0.055022  0.000537    0.000481  0.000539"
      ]
     },
     "execution_count": 4,
     "metadata": {},
     "output_type": "execute_result"
    }
   ],
   "source": [
    "BER_AID = pd.DataFrame(columns=[\"floor 1\", \"floor 2\", \"same floor\", \"floor 4\"])\n",
    "\n",
    "BER_AID.iloc[:, 0] = [round(i, 6) for i in [0.06201724137931035, 0.026191810344827586, 0.014946120689655172, 0.05502155172413793]]\n",
    "BER_AID.iloc[:, 1] = [round(i, 6) for i in [0.014448275862068965, 0.0030107758620689655, 0.0008103448275862069, 0.0005366379310344828]]\n",
    "BER_AID.iloc[:, 2] = [round(i, 6) for i in [0.0035005355538663533, 0.00833405172413793, 0.00047413793103448276, 0.0004806034482758621]]\n",
    "BER_AID.iloc[:, 3] = [round(i, 6) for i in [0.0006961206896551724, 6.03448275862069e-05, 0.00016163793103448276, 0.0005387931034482759]]\n",
    "\n",
    "\n",
    "BER_AID"
   ]
  },
  {
   "cell_type": "code",
   "execution_count": 5,
   "metadata": {
    "ExecuteTime": {
     "end_time": "2021-09-05T10:37:22.629223Z",
     "start_time": "2021-09-05T10:37:22.611505Z"
    }
   },
   "outputs": [
    {
     "data": {
      "text/html": [
       "<div>\n",
       "<style scoped>\n",
       "    .dataframe tbody tr th:only-of-type {\n",
       "        vertical-align: middle;\n",
       "    }\n",
       "\n",
       "    .dataframe tbody tr th {\n",
       "        vertical-align: top;\n",
       "    }\n",
       "\n",
       "    .dataframe thead th {\n",
       "        text-align: right;\n",
       "    }\n",
       "</style>\n",
       "<table border=\"1\" class=\"dataframe\">\n",
       "  <thead>\n",
       "    <tr style=\"text-align: right;\">\n",
       "      <th></th>\n",
       "      <th>floor 1</th>\n",
       "      <th>floor 2</th>\n",
       "      <th>same floor</th>\n",
       "      <th>floor 4</th>\n",
       "    </tr>\n",
       "  </thead>\n",
       "  <tbody>\n",
       "    <tr>\n",
       "      <th>0</th>\n",
       "      <td>-109.9690</td>\n",
       "      <td>-102.3640</td>\n",
       "      <td>-100.755511</td>\n",
       "      <td>-98.5375</td>\n",
       "    </tr>\n",
       "    <tr>\n",
       "      <th>1</th>\n",
       "      <td>-105.3395</td>\n",
       "      <td>-102.8050</td>\n",
       "      <td>-100.803500</td>\n",
       "      <td>-97.6790</td>\n",
       "    </tr>\n",
       "    <tr>\n",
       "      <th>2</th>\n",
       "      <td>-105.2945</td>\n",
       "      <td>-100.9965</td>\n",
       "      <td>-99.566000</td>\n",
       "      <td>-96.7080</td>\n",
       "    </tr>\n",
       "    <tr>\n",
       "      <th>3</th>\n",
       "      <td>-107.7600</td>\n",
       "      <td>-101.0235</td>\n",
       "      <td>-98.576500</td>\n",
       "      <td>-100.6485</td>\n",
       "    </tr>\n",
       "  </tbody>\n",
       "</table>\n",
       "</div>"
      ],
      "text/plain": [
       "    floor 1   floor 2  same floor   floor 4\n",
       "0 -109.9690 -102.3640 -100.755511  -98.5375\n",
       "1 -105.3395 -102.8050 -100.803500  -97.6790\n",
       "2 -105.2945 -100.9965  -99.566000  -96.7080\n",
       "3 -107.7600 -101.0235  -98.576500 -100.6485"
      ]
     },
     "execution_count": 5,
     "metadata": {},
     "output_type": "execute_result"
    }
   ],
   "source": [
    "RSS_AID = pd.DataFrame(columns=[\"floor 1\", \"floor 2\", \"same floor\", \"floor 4\"])\n",
    "\n",
    "RSS_AID.iloc[:, 0] = [round(i, 6) for i in [-109.969, -105.3395, -105.2945, -107.76]]\n",
    "RSS_AID.iloc[:, 1] = [round(i, 6) for i in [-102.364, -102.805, -100.9965, -101.0235]]\n",
    "RSS_AID.iloc[:, 2] = [round(i, 6) for i in [-100.75551102204409, -100.8035, -99.566, -98.5765]]\n",
    "RSS_AID.iloc[:, 3] = [round(i, 6) for i in [-98.5375, -97.679, -96.708, -100.6485]]\n",
    "\n",
    "RSS_AID"
   ]
  },
  {
   "cell_type": "code",
   "execution_count": 6,
   "metadata": {
    "ExecuteTime": {
     "end_time": "2021-09-05T10:37:23.316786Z",
     "start_time": "2021-09-05T10:37:22.807771Z"
    },
    "scrolled": false
   },
   "outputs": [
    {
     "data": {
      "image/png": "[encoded data removed]",
      "text/plain": [
       "<Figure size 576x216 with 1 Axes>"
      ]
     },
     "metadata": {
      "needs_background": "light"
     },
     "output_type": "display_data"
    }
   ],
   "source": [
    "from pylab import rcParams\n",
    "rcParams['figure.figsize'] = 8, 3\n",
    "fig, ax1 = plt.subplots(1)\n",
    "\n",
    "carrier = [0, 1, 2, 3]\n",
    "\n",
    "df_BER = BER\n",
    "df_RSS = RSS\n",
    "\n",
    "ax1.plot(carrier, df_BER.mean(), color='black', marker='o', markersize=12, linewidth=4, label='unaided mode')\n",
    "ax1.plot(carrier, BER_AID.mean(), color='#77A136', marker='o', markersize=12, linewidth=4, linestyle='--', label='aided mode')\n",
    "\n",
    "ax1.set_xlabel('Receiver location', fontsize=20)\n",
    "ax1.set_ylabel('BER', fontsize=20)\n",
    "ax1.tick_params(labelsize=14)\n",
    "\n",
    "# ax2=ax1.twinx()\n",
    "# ax2.plot(carrier, df_RSS.mean(), color='#77A136', marker='o', markersize=8, linewidth=4, linestyle='--', label='RSS')\n",
    "# ax2.set_ylabel('RSS [dBm]', fontsize=15, color='#77A136')\n",
    "# ax2.tick_params(labelsize=14)\n",
    "# ax2.set_ylim([-110,-70])\n",
    "\n",
    "# error bar\n",
    "width=0.06\n",
    "mean = df_BER.mean()\n",
    "std = df_BER.std()\n",
    "for i in range(len(carrier)):\n",
    "    d=carrier[i]\n",
    "    m=mean[i]; s=std[i]/2\n",
    "    ax1.vlines(d, (m-s), (m+s))\n",
    "    ax1.hlines((m-s), d-width, d+width)\n",
    "    ax1.hlines((m+s), d-width, d+width)\n",
    "    \n",
    "mean = BER_AID.mean()\n",
    "std = BER_AID.std()\n",
    "for i in range(len(carrier)):\n",
    "    d=carrier[i]\n",
    "    m=mean[i]; s=std[i]/2\n",
    "    ax1.vlines(d, (m-s), (m+s), color='#77A136')\n",
    "    ax1.hlines((m-s), d-width, d+width, color='#77A136')\n",
    "    ax1.hlines((m+s), d-width, d+width, color='#77A136')\n",
    "    \n",
    "# ax1.hlines(0.001804, -70, 27, color='grey', linewidth=4, linestyle='--', label='Free running static') \n",
    "    \n",
    "# mean = df_RSS.mean()\n",
    "# std = df_RSS.std()\n",
    "# for i in range(len(carrier)):\n",
    "#     d=carrier[i]\n",
    "#     m=mean[i]; s=std[i]/2\n",
    "#     ax2.vlines(d, (m-s), (m+s), color='#77A136')\n",
    "#     ax2.hlines((m-s), d-width, d+width, color='#77A136')\n",
    "#     ax2.hlines((m+s), d-width, d+width, color='#77A136')\n",
    "    \n",
    "# tmp = [\"Free running \\n Static\", \"Free running \\n Dynamic\", \"Injection locking \\n Dynamic\"]\n",
    "# ax1.set_xticklabels(tmp)\n",
    "# ax1.set_xticks(range(-37,12,10))\n",
    "\n",
    "ax1.set_yscale('log')\n",
    "tmp = [-5, -4, -3, -2, -1, 0]\n",
    "tmp = ['{:f}'.format(10**i).rstrip('0').rstrip('.') for i in tmp]\n",
    "ax1.set_yticklabels(tmp)\n",
    "ax1.set_xticks([0,1,2,3])\n",
    "ax1.set_xticklabels([\"Floor 1\", \"Floor 2\", \"Same floor 45m\", \"Floor 4\"])\n",
    "ax1.set_ylim([1e-4,1])\n",
    "ax1.set_xlim([-0.2,3.2])\n",
    "\n",
    "ax1.grid()\n",
    "ax1.legend(loc=\"lower left\", fontsize=15, framealpha=0.3)\n",
    "plt.tight_layout()\n",
    "plt.savefig('./indoor_ber.pdf')"
   ]
  },
  {
   "cell_type": "code",
   "execution_count": 7,
   "metadata": {
    "ExecuteTime": {
     "end_time": "2021-09-05T10:37:23.610185Z",
     "start_time": "2021-09-05T10:37:23.358521Z"
    }
   },
   "outputs": [
    {
     "data": {
      "image/png": "[encoded data removed]",
      "text/plain": [
       "<Figure size 576x216 with 1 Axes>"
      ]
     },
     "metadata": {
      "needs_background": "light"
     },
     "output_type": "display_data"
    }
   ],
   "source": [
    "from pylab import rcParams\n",
    "rcParams['figure.figsize'] = 8, 3\n",
    "fig, ax1 = plt.subplots(1)\n",
    "\n",
    "carrier = [0, 1, 2, 3]\n",
    "\n",
    "ax1.plot(carrier, RSS.mean(), color='grey', marker='o', markersize=12, linewidth=4, label='unaided mode')\n",
    "ax1.plot(carrier, RSS_AID.mean(), color='#EF9136', marker='o', markersize=12, linewidth=4, linestyle='--', label='aided mode')\n",
    "\n",
    "ax1.set_xlabel('Receiver location', fontsize=20)\n",
    "ax1.set_ylabel('RSS [dBm]', fontsize=20)\n",
    "ax1.tick_params(labelsize=14)\n",
    "\n",
    "# ax2=ax1.twinx()\n",
    "# ax2.plot(carrier, df_RSS.mean(), color='#EF9136', marker='o', markersize=8, linewidth=4, linestyle='--', label='RSS')\n",
    "# ax2.set_ylabel('RSS [dBm]', fontsize=15, color='#EF9136')\n",
    "# ax2.tick_params(labelsize=14)\n",
    "# ax2.set_ylim([-110,-70])\n",
    "\n",
    "# error bar\n",
    "width=0.06\n",
    "mean = RSS.mean()\n",
    "std = RSS.std()\n",
    "for i in range(len(carrier)):\n",
    "    d=carrier[i]\n",
    "    m=mean[i]; s=std[i]/2\n",
    "    ax1.vlines(d, (m-s), (m+s), color='grey')\n",
    "    ax1.hlines((m-s), d-width, d+width, color='grey')\n",
    "    ax1.hlines((m+s), d-width, d+width, color='grey')\n",
    "    \n",
    "mean = RSS_AID.mean()\n",
    "std = RSS_AID.std()\n",
    "for i in range(len(carrier)):\n",
    "    d=carrier[i]\n",
    "    m=mean[i]; s=std[i]/2\n",
    "    ax1.vlines(d, (m-s), (m+s), color='#EF9136')\n",
    "    ax1.hlines((m-s), d-width, d+width, color='#EF9136')\n",
    "    ax1.hlines((m+s), d-width, d+width, color='#EF9136')\n",
    "    \n",
    "# ax1.hlines(0.001804, -70, 27, color='grey', linewidth=4, linestyle='--', label='Free running static') \n",
    "    \n",
    "# mean = df_RSS.mean()\n",
    "# std = df_RSS.std()\n",
    "# for i in range(len(carrier)):\n",
    "#     d=carrier[i]\n",
    "#     m=mean[i]; s=std[i]/2\n",
    "#     ax2.vlines(d, (m-s), (m+s), color='#EF9136')\n",
    "#     ax2.hlines((m-s), d-width, d+width, color='#EF9136')\n",
    "#     ax2.hlines((m+s), d-width, d+width, color='#EF9136')\n",
    "    \n",
    "# tmp = [\"Free running \\n Static\", \"Free running \\n Dynamic\", \"Injection locking \\n Dynamic\"]\n",
    "# ax1.set_xticklabels(tmp)\n",
    "# ax1.set_xticks(range(-37,12,10))\n",
    "\n",
    "# ax1.set_yscale('log')\n",
    "# tmp = [-5, -4, -3, -2, -1, 0]\n",
    "# tmp = ['{:f}'.format(10**i).rstrip('0').rstrip('.') for i in tmp]\n",
    "# ax1.set_yticklabels(tmp)\n",
    "ax1.set_xticks([0,1,2,3])\n",
    "ax1.set_xticklabels([\"Floor 1\", \"Floor 2\", \"Same floor 45m\", \"Floor 4\"])\n",
    "# ax1.set_ylim([1e-4,1])\n",
    "ax1.set_xlim([-0.2,3.2])\n",
    "\n",
    "ax1.grid()\n",
    "ax1.legend(fontsize=15, framealpha=0.3)\n",
    "plt.tight_layout()\n",
    "plt.savefig('./indoor_rss.pdf')"
   ]
  },
  {
   "cell_type": "code",
   "execution_count": 9,
   "metadata": {
    "ExecuteTime": {
     "end_time": "2021-09-05T10:38:03.872288Z",
     "start_time": "2021-09-05T10:38:03.619247Z"
    }
   },
   "outputs": [
    {
     "data": {
      "image/png": "[encoded data removed]",
      "text/plain": [
       "<Figure size 432x216 with 1 Axes>"
      ]
     },
     "metadata": {
      "needs_background": "light"
     },
     "output_type": "display_data"
    }
   ],
   "source": [
    "from pylab import rcParams\n",
    "rcParams['figure.figsize'] = 6, 3\n",
    "fig, ax1 = plt.subplots(1)\n",
    "\n",
    "# xlabel = [\"Free running \\n Static\", \"Free running \\n Dynamic\", \"Injection locking \\n Static\", \"Injection locking \\n Dynamic\"]\n",
    "# ax1.bar(xlabel, df_BER.mean(), color='black', width=0.2)\n",
    "boxprops = dict(linewidth=2.0, color='black')\n",
    "whiskerprops = dict(linestyle='-', linewidth=2.0, color='black')\n",
    "capprops = dict(linestyle='-', linewidth=2.0, color='black')\n",
    "meanprops = dict(linestyle='-', linewidth=2.0, color='#77A136')\n",
    "medianprops = dict(linestyle='-', linewidth=0, color='white')\n",
    "ax1.boxplot(BER_AID.T, widths=0.3, meanline=True, showmeans=True, boxprops=boxprops,\n",
    "            whiskerprops=whiskerprops, capprops=capprops, meanprops=meanprops, medianprops=medianprops)\n",
    "\n",
    "ax1.set_yscale('log')\n",
    "tmp = [-4, -3, -2, -1]\n",
    "tmp = ['{:f}'.format(10**i).rstrip('0').rstrip('.') for i in tmp]\n",
    "ax1.set_yticklabels(tmp)\n",
    "ax1.set_ylim([1e-3,1e-1])\n",
    "ax1.set_xticklabels([\"Free running \\n Static\", \"Free running \\n Dynamic\", \"Injection locking \\n Dynamic\"])\n",
    "ax1.tick_params(labelsize=13)\n",
    "\n",
    "ax1.grid()\n",
    "ax1.set_ylabel(\"Bit error rate (BER)\", fontsize=16)\n",
    "\n",
    "ax1.tick_params(labelsize=14)\n",
    "\n",
    "# plt.savefig('./reliability.pdf')"
   ]
  },
  {
   "cell_type": "code",
   "execution_count": 12,
   "metadata": {
    "ExecuteTime": {
     "end_time": "2021-09-05T10:40:01.783719Z",
     "start_time": "2021-09-05T10:40:01.319914Z"
    }
   },
   "outputs": [
    {
     "data": {
      "image/png": "[encoded data removed]",
      "text/plain": [
       "<Figure size 576x360 with 2 Axes>"
      ]
     },
     "metadata": {
      "needs_background": "light"
     },
     "output_type": "display_data"
    }
   ],
   "source": [
    "from pylab import rcParams\n",
    "rcParams['figure.figsize'] = 8, 5\n",
    "fig, (ax1, ax2) = plt.subplots(2,1)\n",
    "\n",
    "carrier = [0, 1, 2, 3]\n",
    "\n",
    "df_BER = BER\n",
    "df_RSS = RSS\n",
    "\n",
    "ax1.plot(carrier, df_BER.mean(), color='black', marker='o', markersize=12, linewidth=4, label='Unaided mode')\n",
    "ax1.plot(carrier, BER_AID.mean(), color='#77A136', marker='o', markersize=12, linewidth=4, linestyle='--', label='Aided mode')\n",
    "\n",
    "# ax1.set_xlabel('Receiver location', fontsize=20)\n",
    "ax1.set_ylabel('BER', fontsize=18)\n",
    "ax1.tick_params(labelsize=14)\n",
    "\n",
    "# ax2=ax1.twinx()\n",
    "# ax2.plot(carrier, df_RSS.mean(), color='#77A136', marker='o', markersize=8, linewidth=4, linestyle='--', label='RSS')\n",
    "# ax2.set_ylabel('RSS [dBm]', fontsize=15, color='#77A136')\n",
    "# ax2.tick_params(labelsize=14)\n",
    "# ax2.set_ylim([-110,-70])\n",
    "\n",
    "# error bar\n",
    "width=0.06\n",
    "mean = df_BER.mean()\n",
    "std = df_BER.std()\n",
    "for i in range(len(carrier)):\n",
    "    d=carrier[i]\n",
    "    m=mean[i]; s=std[i]/2\n",
    "    ax1.vlines(d, (m-s), (m+s))\n",
    "    ax1.hlines((m-s), d-width, d+width)\n",
    "    ax1.hlines((m+s), d-width, d+width)\n",
    "    \n",
    "mean = BER_AID.mean()\n",
    "std = BER_AID.std()\n",
    "for i in range(len(carrier)):\n",
    "    d=carrier[i]\n",
    "    m=mean[i]; s=std[i]/2\n",
    "    ax1.vlines(d, (m-s), (m+s), color='#77A136')\n",
    "    ax1.hlines((m-s), d-width, d+width, color='#77A136')\n",
    "    ax1.hlines((m+s), d-width, d+width, color='#77A136')\n",
    "    \n",
    "# ax1.hlines(0.001804, -70, 27, color='grey', linewidth=4, linestyle='--', label='Free running static') \n",
    "    \n",
    "# mean = df_RSS.mean()\n",
    "# std = df_RSS.std()\n",
    "# for i in range(len(carrier)):\n",
    "#     d=carrier[i]\n",
    "#     m=mean[i]; s=std[i]/2\n",
    "#     ax2.vlines(d, (m-s), (m+s), color='#77A136')\n",
    "#     ax2.hlines((m-s), d-width, d+width, color='#77A136')\n",
    "#     ax2.hlines((m+s), d-width, d+width, color='#77A136')\n",
    "    \n",
    "# tmp = [\"Free running \\n Static\", \"Free running \\n Dynamic\", \"Injection locking \\n Dynamic\"]\n",
    "# ax1.set_xticklabels(tmp)\n",
    "# ax1.set_xticks(range(-37,12,10))\n",
    "\n",
    "ax1.set_yscale('log')\n",
    "tmp = [-5, -4, -3, -2, -1, 0]\n",
    "tmp = ['{:f}'.format(10**i).rstrip('0').rstrip('.') for i in tmp]\n",
    "ax1.set_yticklabels(tmp)\n",
    "ax1.set_xticks([0,1,2,3])\n",
    "ax1.set_xticklabels([\"Floor 1\", \"Floor 2\", \"Same floor 45m\", \"Floor 4\"])\n",
    "ax1.set_ylim([1e-4,1])\n",
    "ax1.set_xlim([-0.2,3.2])\n",
    "\n",
    "ax1.grid()\n",
    "ax1.legend(loc=\"lower left\", fontsize=15, framealpha=0.3)\n",
    "\n",
    "\n",
    "\n",
    "carrier = [0, 1, 2, 3]\n",
    "\n",
    "ax2.plot(carrier, RSS.mean(), color='grey', marker='o', markersize=12, linewidth=4, label='Unaided mode')\n",
    "ax2.plot(carrier, RSS_AID.mean(), color='#EF9136', marker='o', markersize=12, linewidth=4, linestyle='--', label='Aided mode')\n",
    "\n",
    "ax2.set_xlabel('Receiver location', fontsize=18)\n",
    "ax2.set_ylabel('RSS [dBm]', fontsize=18)\n",
    "ax2.tick_params(labelsize=14)\n",
    "\n",
    "# ax2=ax2.twinx()\n",
    "# ax2.plot(carrier, df_RSS.mean(), color='#EF9136', marker='o', markersize=8, linewidth=4, linestyle='--', label='RSS')\n",
    "# ax2.set_ylabel('RSS [dBm]', fontsize=15, color='#EF9136')\n",
    "# ax2.tick_params(labelsize=14)\n",
    "# ax2.set_ylim([-110,-70])\n",
    "\n",
    "# error bar\n",
    "width=0.06\n",
    "mean = RSS.mean()\n",
    "std = RSS.std()\n",
    "for i in range(len(carrier)):\n",
    "    d=carrier[i]\n",
    "    m=mean[i]; s=std[i]/2\n",
    "    ax2.vlines(d, (m-s), (m+s), color='grey')\n",
    "    ax2.hlines((m-s), d-width, d+width, color='grey')\n",
    "    ax2.hlines((m+s), d-width, d+width, color='grey')\n",
    "    \n",
    "mean = RSS_AID.mean()\n",
    "std = RSS_AID.std()\n",
    "for i in range(len(carrier)):\n",
    "    d=carrier[i]\n",
    "    m=mean[i]; s=std[i]/2\n",
    "    ax2.vlines(d, (m-s), (m+s), color='#EF9136')\n",
    "    ax2.hlines((m-s), d-width, d+width, color='#EF9136')\n",
    "    ax2.hlines((m+s), d-width, d+width, color='#EF9136')\n",
    "    \n",
    "# ax2.hlines(0.001804, -70, 27, color='grey', linewidth=4, linestyle='--', label='Free running static') \n",
    "    \n",
    "# mean = df_RSS.mean()\n",
    "# std = df_RSS.std()\n",
    "# for i in range(len(carrier)):\n",
    "#     d=carrier[i]\n",
    "#     m=mean[i]; s=std[i]/2\n",
    "#     ax2.vlines(d, (m-s), (m+s), color='#EF9136')\n",
    "#     ax2.hlines((m-s), d-width, d+width, color='#EF9136')\n",
    "#     ax2.hlines((m+s), d-width, d+width, color='#EF9136')\n",
    "    \n",
    "# tmp = [\"Free running \\n Static\", \"Free running \\n Dynamic\", \"Injection locking \\n Dynamic\"]\n",
    "# ax2.set_xticklabels(tmp)\n",
    "# ax2.set_xticks(range(-37,12,10))\n",
    "\n",
    "# ax2.set_yscale('log')\n",
    "# tmp = [-5, -4, -3, -2, -1, 0]\n",
    "# tmp = ['{:f}'.format(10**i).rstrip('0').rstrip('.') for i in tmp]\n",
    "# ax2.set_yticklabels(tmp)\n",
    "ax2.set_xticks([0,1,2,3])\n",
    "ax2.set_xticklabels([\"Floor 1\", \"Floor 2\", \"Same floor 45m\", \"Floor 4\"])\n",
    "# ax2.set_ylim([1e-4,1])\n",
    "ax2.set_xlim([-0.2,3.2])\n",
    "\n",
    "ax2.grid()\n",
    "ax2.legend(fontsize=15, framealpha=0.3)\n",
    "plt.tight_layout()\n",
    "plt.savefig('./indoor.pdf')"
   ]
  },
  {
   "cell_type": "markdown",
   "metadata": {},
   "source": [
    "# Freq drift"
   ]
  },
  {
   "cell_type": "code",
   "execution_count": 76,
   "metadata": {
    "ExecuteTime": {
     "end_time": "2021-08-09T15:31:15.206695Z",
     "start_time": "2021-08-09T15:31:15.196767Z"
    }
   },
   "outputs": [],
   "source": [
    "BER_T_1 = [round(i, 6) for i in [0.0064698275862068964, 0.005823275862068966, 0.004838362068965517, 0.005618534482758621, 0.006745689655172414, 0.007868534482758621, 0.007181034482758621, 0.006719827586206897, 0.009198275862068965, 0.01965301724137931, 0.010079741379310345, 0.007344827586206896, 0.0063857758620689655, 0.008178879310344828, 0.007364224137931035, 0.00990301724137931, 0.009941810344827585, 0.008148706896551724, 0.008400862068965518, 0.009288793103448276, 0.008448275862068965, 0.009450431034482759, 0.011390086206896551, 0.009810344827586207]]\n",
    "\n",
    "RSS_T_1 = [round(i, 6) for i in [-96.556, -96.757, -96.3125, -96.251, -96.3745, -96.408, -96.6545, -96.708, -97.711, -99.1965, -97.856, -97.052, -96.6525, -96.8585, -96.8005, -97.1245, -97.2135, -96.703, -96.991, -97.4645, -97.038, -97.453, -97.667, -97.433]]"
   ]
  },
  {
   "cell_type": "code",
   "execution_count": 78,
   "metadata": {
    "ExecuteTime": {
     "end_time": "2021-08-09T15:36:50.597565Z",
     "start_time": "2021-08-09T15:36:50.591257Z"
    }
   },
   "outputs": [],
   "source": [
    "BER_T_2 = [round(i, 6) for i in [0.003752155172413793, 0.005767241379310345, 0.003269396551724138, 0.0033599137931034483, 0.004306034482758621, 0.0044849137931034485, 0.004685344827586207, 0.004424568965517241, 0.004568965517241379, 0.004564655172413793, 0.0048620689655172415, 0.004773706896551724, 0.005, 0.004310344827586207, 0.005321120689655173, 0.0043017241379310345, 0.002816810344827586, 0.004314655172413793, 0.00340301724137931, 0.0028081896551724137, 0.0035732758620689656, 0.002767241379310345, 0.002618534482758621, 0.002670258620689655]]\n",
    "\n",
    "RSS_T_2 = [round(i, 6) for i in [-93.6265, -94.796, -93.9365, -92.4215, -92.7305, -92.8625, -92.72, -93.008, -92.456, -92.983, -92.9905, -92.788, -93.123, -93.109, -93.5125, -93.191, -92.7055, -94.1335, -93.882, -94.1395, -93.5175, -92.8985, -90.637, -90.9215]]"
   ]
  },
  {
   "cell_type": "code",
   "execution_count": 87,
   "metadata": {
    "ExecuteTime": {
     "end_time": "2021-08-09T15:40:30.156105Z",
     "start_time": "2021-08-09T15:40:30.146412Z"
    }
   },
   "outputs": [],
   "source": [
    "BER_T_3 = [round(i, 6) for i in [5.3879310344827585e-05, 0.00014224137931034483, 0.00013793103448275863, 0.00014870689655172413, 0.00028017241379310343, 3.017241379310345e-05, 3.4482758620689657e-05, 3.663793103448276e-05, 8.189655172413794e-05, 6.681034482758621e-05, 3.8793103448275865e-05, 2.8017241379310345e-05, 3.4482758620689657e-05, 2.3706896551724137e-05, 3.663793103448276e-05, 3.232758620689655e-05, 3.663793103448276e-05, 2.3706896551724137e-05, 4.094827586206897e-05, 4.525862068965517e-05, 4.956896551724138e-05, 3.663793103448276e-05, 2.1551724137931033e-05, 3.017241379310345e-05]]\n",
    "\n",
    "RSS_T_3 = [round(i, 6) for i in [-94.5535, -94.2215, -94.8975, -94.588, -94.576, -94.626, -94.559, -94.5625, -94.5615, -94.6075, -94.568, -94.571, -94.5695, -94.5685, -94.6, -94.5625, -94.5725, -94.535, -94.5155, -94.563, -94.8255, -94.8195, -94.2695, -94.5395]]"
   ]
  },
  {
   "cell_type": "code",
   "execution_count": 88,
   "metadata": {
    "ExecuteTime": {
     "end_time": "2021-08-09T15:40:30.776538Z",
     "start_time": "2021-08-09T15:40:30.770034Z"
    }
   },
   "outputs": [],
   "source": [
    "BER_T_4 = [round(i, 6) for i in [0.0014267241379310345, 0.0003125, 0.00017241379310344826, 0.00017672413793103447, 0.00026724137931034484, 0.00028663793103448276, 0.0002607758620689655, 0.00026508620689655175, 0.0013814655172413794, 0.00020689655172413793, 0.00017672413793103447, 0.0001896551724137931, 0.00015732758620689655, 0.00022198275862068967, 0.00018534482758620689, 0.00021336206896551725, 0.0002543103448275862, 0.00026939655172413793, 0.0031336206896551725, 0.00020043103448275863, 0.0015193965517241378, 0.00017456896551724138, 0.0001293103448275862, 0.000125]]\n",
    "\n",
    "RSS_T_4 = [round(i, 6) for i in [-96.1495, -93.718, -93.771, -93.7935, -93.78, -93.7315, -93.77, -93.6915, -93.7675, -93.725, -93.7435, -93.6805, -93.7175, -93.7255, -93.7505, -93.786, -93.779, -93.709, -97.4295, -93.773, -96.8345, -93.8175, -93.318, -93.4615]]"
   ]
  },
  {
   "cell_type": "code",
   "execution_count": 101,
   "metadata": {
    "ExecuteTime": {
     "end_time": "2021-08-09T15:44:19.451533Z",
     "start_time": "2021-08-09T15:44:19.176433Z"
    }
   },
   "outputs": [
    {
     "data": {
      "text/plain": [
       "<matplotlib.legend.Legend at 0x1a2ad1d9d0>"
      ]
     },
     "execution_count": 101,
     "metadata": {},
     "output_type": "execute_result"
    },
    {
     "data": {
      "image/png": "[encoded data removed]",
      "text/plain": [
       "<Figure size 576x360 with 2 Axes>"
      ]
     },
     "metadata": {
      "needs_background": "light"
     },
     "output_type": "display_data"
    }
   ],
   "source": [
    "from pylab import rcParams\n",
    "rcParams['figure.figsize'] = 8, 5\n",
    "fig, [ax1, ax2] = plt.subplots(2,1, sharey=True)\n",
    "\n",
    "carrier = range(1,25)\n",
    "\n",
    "ax1.plot(carrier, BER_T_1, color='black', marker='o', markersize=4, linewidth=2, label='865.59MHz')\n",
    "ax1.plot(carrier, BER_T_2, color='#77A136', marker='o', markersize=4, linewidth=2, linestyle='--', label='865.75MHz')\n",
    "\n",
    "# ax1.set_xlabel('Time', fontsize=20)\n",
    "ax1.set_ylabel('BER', fontsize=20)\n",
    "ax1.set_title(\"Backsplatter unaided\", fontsize=20)\n",
    "ax1.tick_params(labelsize=14)\n",
    "\n",
    "ax1.grid()\n",
    "ax1.legend(fontsize=15, framealpha=0.3)\n",
    "\n",
    "ax2.plot(carrier, BER_T_3, color='black', marker='o', markersize=4, linewidth=2, label='f1')\n",
    "ax2.plot(carrier, BER_T_4, color='#77A136', marker='o', markersize=4, linewidth=2, linestyle='--', label='f2')\n",
    "\n",
    "ax2.set_xlabel('Time', fontsize=20)\n",
    "ax2.set_ylabel('BER', fontsize=20)\n",
    "ax2.set_title(\"Backsplatter aided\", fontsize=20)\n",
    "ax2.tick_params(labelsize=14)\n",
    "\n",
    "ax2.grid()\n",
    "ax2.legend(fontsize=15, framealpha=0.3)\n",
    "\n",
    "\n",
    "# plt.tight_layout()\n",
    "# plt.savefig('./indoor_ber.pdf')"
   ]
  },
  {
   "cell_type": "code",
   "execution_count": 90,
   "metadata": {
    "ExecuteTime": {
     "end_time": "2021-08-09T15:41:00.293826Z",
     "start_time": "2021-08-09T15:41:00.279191Z"
    }
   },
   "outputs": [
    {
     "data": {
      "text/plain": [
       "<matplotlib.legend.Legend at 0x1a2a16b850>"
      ]
     },
     "execution_count": 90,
     "metadata": {},
     "output_type": "execute_result"
    }
   ],
   "source": [
    "ax2.plot(carrier, BER_T_1, color='black', marker='o', markersize=4, linewidth=2, label='unaided mode')\n",
    "ax2.plot(carrier, BER_T_2, color='#77A136', marker='o', markersize=4, linewidth=2, linestyle='--', label='aided mode')\n",
    "\n",
    "ax2.set_xlabel('Time', fontsize=20)\n",
    "ax2.set_ylabel('BER', fontsize=20)\n",
    "ax2.tick_params(labelsize=14)\n",
    "\n",
    "ax2.grid()\n",
    "ax2.legend(fontsize=15, framealpha=0.3)"
   ]
  },
  {
   "cell_type": "markdown",
   "metadata": {},
   "source": []
  },
  {
   "cell_type": "code",
   "execution_count": null,
   "metadata": {},
   "outputs": [],
   "source": []
  }
 ],
 "metadata": {
  "kernelspec": {
   "display_name": "Python 3",
   "language": "python",
   "name": "python3"
  },
  "language_info": {
   "codemirror_mode": {
    "name": "ipython",
    "version": 3
   },
   "file_extension": ".py",
   "mimetype": "text/x-python",
   "name": "python",
   "nbconvert_exporter": "python",
   "pygments_lexer": "ipython3",
   "version": "3.7.6"
  },
  "toc": {
   "base_numbering": 1,
   "nav_menu": {},
   "number_sections": true,
   "sideBar": true,
   "skip_h1_title": false,
   "title_cell": "Table of Contents",
   "title_sidebar": "Contents",
   "toc_cell": false,
   "toc_position": {},
   "toc_section_display": true,
   "toc_window_display": false
  },
  "varInspector": {
   "cols": {
    "lenName": 16,
    "lenType": 16,
    "lenVar": 40
   },
   "kernels_config": {
    "python": {
     "delete_cmd_postfix": "",
     "delete_cmd_prefix": "del ",
     "library": "var_list.py",
     "varRefreshCmd": "print(var_dic_list())"
    },
    "r": {
     "delete_cmd_postfix": ") ",
     "delete_cmd_prefix": "rm(",
     "library": "var_list.r",
     "varRefreshCmd": "cat(var_dic_list()) "
    }
   },
   "types_to_exclude": [
    "module",
    "function",
    "builtin_function_or_method",
    "instance",
    "_Feature"
   ],
   "window_display": false
  }
 },
 "nbformat": 4,
 "nbformat_minor": 4
}
