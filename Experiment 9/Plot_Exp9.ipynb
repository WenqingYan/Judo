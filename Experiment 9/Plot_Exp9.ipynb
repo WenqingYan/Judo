{
 "cells": [
  {
   "cell_type": "code",
   "execution_count": 2,
   "metadata": {
    "ExecuteTime": {
     "end_time": "2021-05-17T09:38:30.900585Z",
     "start_time": "2021-05-17T09:38:30.012147Z"
    }
   },
   "outputs": [],
   "source": [
    "import pandas as pd\n",
    "from io import StringIO\n",
    "import matplotlib.pyplot as plt\n",
    "import numpy as np\n",
    "from numpy import NaN\n",
    "\n",
    "from scipy.signal import find_peaks\n",
    "\n",
    "import matplotlib\n",
    "from pylab import rcParams\n",
    "#%matplotlib widget, camera ready submission problem\n",
    "matplotlib.rc('pdf', fonttype=42)\n",
    "matplotlib.rcParams['savefig.dpi'] = 300\n",
    "rcParams.update({'figure.autolayout': True})\n",
    "\n",
    "def readfile(filename):\n",
    "    types = {'frequency': float,'power': float}\n",
    "    df = pd.read_csv(filename, skiprows=0, header=None, error_bad_lines=False, delim_whitespace=False, delimiter=' ')\n",
    "    df.columns = ['frequency', 'power']\n",
    "    df.dropna(inplace=True)\n",
    "    #print(df.describe())\n",
    "    return df"
   ]
  },
  {
   "cell_type": "markdown",
   "metadata": {},
   "source": [
    "# 30m"
   ]
  },
  {
   "cell_type": "code",
   "execution_count": 3,
   "metadata": {
    "ExecuteTime": {
     "end_time": "2021-05-17T09:38:31.217435Z",
     "start_time": "2021-05-17T09:38:31.202120Z"
    }
   },
   "outputs": [],
   "source": [
    "d_30 = [-37, -27, -17, -7, 2]\n",
    "df_30 = pd.DataFrame(columns=[\"Tx Gain -37dBm\", \"Tx Gain -27dBm\", \"Tx Gain -17dBm\", \"Tx Gain -7dBm\", \"Tx Gain 2dBm\"], index=[\"Round_1\", \"Round_2\", \"Round_3\"])\n",
    "\n",
    "df_30.iloc[:, 0] = [round(i, 6) for i in [0.002084051724137931, 0.0010237068965517242, 0.0017844827586206897]]\n",
    "df_30.iloc[:, 1] = [round(i, 6) for i in [8.836206896551724e-05, 6.944444444444445e-06, 6.944444444444445e-06]]\n",
    "df_30.iloc[:, 2] = [round(i, 6) for i in [2.8017241379310345e-05, 6.944444444444445e-06, 6.944444444444445e-06]]\n",
    "df_30.iloc[:, 3] = [round(i, 6) for i in [6.944444444444445e-06, 6.944444444444445e-06, 6.944444444444445e-06]]\n",
    "df_30.iloc[:, 4] = [round(i, 6) for i in [0.0012349137931034482, 0.00021551724137931034, 2.1551724137931035e-06]]\n",
    "\n",
    "# df_30 = df_30.append(df_30.mean(),ignore_index=True)"
   ]
  },
  {
   "cell_type": "markdown",
   "metadata": {},
   "source": [
    "# 60m"
   ]
  },
  {
   "cell_type": "code",
   "execution_count": 4,
   "metadata": {
    "ExecuteTime": {
     "end_time": "2021-05-17T09:38:46.583945Z",
     "start_time": "2021-05-17T09:38:46.574722Z"
    }
   },
   "outputs": [],
   "source": [
    "d_60 = [-27, -17, 2]\n",
    "df_60 = pd.DataFrame(columns=[\"Tx Gain -27dBm\", \"Tx Gain -17dBm\", \"Tx Gain -2dBm\"], index=[\"Round_1\", \"Round_2\", \"Round_3\"])\n",
    "\n",
    "df_60.iloc[0, 0] = round(0.027333161777320297, 6)\n",
    "df_60.iloc[:, 1] = [round(i, 6) for i in [0.0015495689655172413, 0.007146551724137931, 0.0032155172413793104]]\n",
    "df_60.iloc[:, 2] = [round(i, 6) for i in [6.46551724137931e-06, 0.00020474137931034484, 0.00036206896551724136]]"
   ]
  },
  {
   "cell_type": "code",
   "execution_count": 6,
   "metadata": {
    "ExecuteTime": {
     "end_time": "2021-05-17T09:45:12.912910Z",
     "start_time": "2021-05-17T09:45:12.354109Z"
    }
   },
   "outputs": [
    {
     "data": {
      "image/png": "[encoded data removed]",
      "text/plain": [
       "<Figure size 576x216 with 1 Axes>"
      ]
     },
     "metadata": {
      "needs_background": "light"
     },
     "output_type": "display_data"
    }
   ],
   "source": [
    "from pylab import rcParams\n",
    "rcParams['figure.figsize'] = 8, 3\n",
    "fig, ax1 = plt.subplots(1)\n",
    "\n",
    "ax1.plot(d_30, df_30.mean(), color='black', marker='o', markersize=10, linewidth=4, label='30m')\n",
    "ax1.plot(d_60, df_60.mean(), color='#77A136', marker='o', markersize=10, linewidth=4, linestyle='--', label='60m')\n",
    "ax1.set_xlabel('Carrier emitter signal strength [dBm]', fontsize=20)\n",
    "ax1.set_ylabel('BER', fontsize=20)\n",
    "ax1.tick_params(labelsize=14)\n",
    "\n",
    "ax1.set_yscale('log')\n",
    "tmp = [-6, -5, -4, -3, -2, -1, 0]\n",
    "tmp = [10**i for i in tmp]\n",
    "ax1.set_yticks(tmp)\n",
    "tmp = ['{:f}'.format(i).rstrip('0').rstrip('.') for i in tmp]\n",
    "ax1.set_yticklabels(tmp)\n",
    "\n",
    "ax1.set_xticks(range(-37,12,10))\n",
    "ax1.set_xlim([-40,4])\n",
    "ax1.grid()\n",
    "\n",
    "plt.legend(fontsize=20)\n",
    "plt.tight_layout()\n",
    "plt.savefig('./mono_indoor.pdf')"
   ]
  },
  {
   "cell_type": "markdown",
   "metadata": {},
   "source": []
  },
  {
   "cell_type": "code",
   "execution_count": null,
   "metadata": {},
   "outputs": [],
   "source": []
  }
 ],
 "metadata": {
  "kernelspec": {
   "display_name": "Python 3 (ipykernel)",
   "language": "python",
   "name": "python3"
  },
  "language_info": {
   "codemirror_mode": {
    "name": "ipython",
    "version": 3
   },
   "file_extension": ".py",
   "mimetype": "text/x-python",
   "name": "python",
   "nbconvert_exporter": "python",
   "pygments_lexer": "ipython3",
   "version": "3.9.9"
  },
  "toc": {
   "base_numbering": 1,
   "nav_menu": {},
   "number_sections": true,
   "sideBar": true,
   "skip_h1_title": false,
   "title_cell": "Table of Contents",
   "title_sidebar": "Contents",
   "toc_cell": false,
   "toc_position": {},
   "toc_section_display": true,
   "toc_window_display": false
  },
  "varInspector": {
   "cols": {
    "lenName": 16,
    "lenType": 16,
    "lenVar": 40
   },
   "kernels_config": {
    "python": {
     "delete_cmd_postfix": "",
     "delete_cmd_prefix": "del ",
     "library": "var_list.py",
     "varRefreshCmd": "print(var_dic_list())"
    },
    "r": {
     "delete_cmd_postfix": ") ",
     "delete_cmd_prefix": "rm(",
     "library": "var_list.r",
     "varRefreshCmd": "cat(var_dic_list()) "
    }
   },
   "types_to_exclude": [
    "module",
    "function",
    "builtin_function_or_method",
    "instance",
    "_Feature"
   ],
   "window_display": false
  }
 },
 "nbformat": 4,
 "nbformat_minor": 4
}
