{
 "cells": [
  {
   "cell_type": "code",
   "execution_count": 66,
   "metadata": {
    "ExecuteTime": {
     "end_time": "2021-08-06T19:04:28.274846Z",
     "start_time": "2021-08-06T19:04:28.219183Z"
    }
   },
   "outputs": [],
   "source": [
    "import pandas as pd\n",
    "from io import StringIO\n",
    "import matplotlib.pyplot as plt\n",
    "import numpy as np\n",
    "from numpy import NaN\n",
    "\n",
    "from scipy.signal import find_peaks\n",
    "\n",
    "import matplotlib\n",
    "from pylab import rcParams\n",
    "#%matplotlib widget, camera ready submission problem\n",
    "matplotlib.rc('pdf', fonttype=42)\n",
    "matplotlib.rcParams['savefig.dpi'] = 300\n",
    "rcParams.update({'figure.autolayout': True})\n",
    "\n",
    "def readfile(filename):\n",
    "    types = {'frequency': float,'power': float}\n",
    "    df = pd.read_csv(filename, skiprows=0, header=None, error_bad_lines=False, delim_whitespace=False, delimiter=' ')\n",
    "    df.columns = ['frequency', 'power']\n",
    "    df.dropna(inplace=True)\n",
    "    #print(df.describe())\n",
    "    return df"
   ]
  },
  {
   "cell_type": "code",
   "execution_count": 67,
   "metadata": {
    "ExecuteTime": {
     "end_time": "2021-08-06T19:04:28.500244Z",
     "start_time": "2021-08-06T19:04:28.497430Z"
    }
   },
   "outputs": [],
   "source": [
    "# df = pd.DataFrame(columns=[\"Office_1\", \"Office_2\", \"Office_3\", \"3rd Floor\", \"4th Floor\"], index=[\"Round_1\", \"Round_2\", \"Round_3\"])\n",
    "\n",
    "# BER.iloc[:,0] = [round(i, 6) for i in []]\n",
    "# BER.iloc[:,1] = [round(i, 6) for i in []]\n",
    "# BER.iloc[:,2] = [round(i, 6) for i in []]\n",
    "# BER.iloc[:,3] = [round(i, 6) for i in []]\n",
    "# BER.iloc[:,4] = [round(i, 6) for i in []]\n",
    "\n",
    "# df = pd.DataFrame(columns=[\"Office_1\", \"Office_2\", \"Office_3\", \"3rd Floor\", \"4th Floor\"], index=[\"Round_1\", \"Round_2\", \"Round_3\"])\n",
    "\n",
    "# RSSI.iloc[:,0] = [round(i, 6) for i in []]\n",
    "# RSSI.iloc[:,1] = [round(i, 6) for i in []]\n",
    "# RSSI.iloc[:,2] = [round(i, 6) for i in []]\n",
    "# RSSI.iloc[:,3] = [round(i, 6) for i in []]\n",
    "# RSSI.iloc[:,4] = [round(i, 6) for i in []]"
   ]
  },
  {
   "cell_type": "code",
   "execution_count": 69,
   "metadata": {
    "ExecuteTime": {
     "end_time": "2021-08-06T19:04:37.265622Z",
     "start_time": "2021-08-06T19:04:37.198046Z"
    }
   },
   "outputs": [
    {
     "data": {
      "text/html": [
       "<div>\n",
       "<style scoped>\n",
       "    .dataframe tbody tr th:only-of-type {\n",
       "        vertical-align: middle;\n",
       "    }\n",
       "\n",
       "    .dataframe tbody tr th {\n",
       "        vertical-align: top;\n",
       "    }\n",
       "\n",
       "    .dataframe thead th {\n",
       "        text-align: right;\n",
       "    }\n",
       "</style>\n",
       "<table border=\"1\" class=\"dataframe\">\n",
       "  <thead>\n",
       "    <tr style=\"text-align: right;\">\n",
       "      <th></th>\n",
       "      <th>Office_1</th>\n",
       "      <th>Office_2</th>\n",
       "      <th>Office_3</th>\n",
       "      <th>3rd Floor</th>\n",
       "      <th>4th Floor</th>\n",
       "    </tr>\n",
       "  </thead>\n",
       "  <tbody>\n",
       "    <tr>\n",
       "      <th>Round_1</th>\n",
       "      <td>0.006362</td>\n",
       "      <td>0.011158</td>\n",
       "      <td>0.019305</td>\n",
       "      <td>0.006497</td>\n",
       "      <td>0.032718</td>\n",
       "    </tr>\n",
       "    <tr>\n",
       "      <th>Round_2</th>\n",
       "      <td>0.006503</td>\n",
       "      <td>0.007049</td>\n",
       "      <td>0.034871</td>\n",
       "      <td>0.007287</td>\n",
       "      <td>0.034457</td>\n",
       "    </tr>\n",
       "    <tr>\n",
       "      <th>Round_3</th>\n",
       "      <td>0.006922</td>\n",
       "      <td>0.009569</td>\n",
       "      <td>0.020986</td>\n",
       "      <td>0.005236</td>\n",
       "      <td>0.024882</td>\n",
       "    </tr>\n",
       "  </tbody>\n",
       "</table>\n",
       "</div>"
      ],
      "text/plain": [
       "         Office_1  Office_2  Office_3  3rd Floor  4th Floor\n",
       "Round_1  0.006362  0.011158  0.019305   0.006497   0.032718\n",
       "Round_2  0.006503  0.007049  0.034871   0.007287   0.034457\n",
       "Round_3  0.006922  0.009569  0.020986   0.005236   0.024882"
      ]
     },
     "execution_count": 69,
     "metadata": {},
     "output_type": "execute_result"
    }
   ],
   "source": [
    "BER = pd.DataFrame(columns=[\"Office_1\", \"Office_2\", \"Office_3\", \"3rd Floor\", \"4th Floor\"], index=[\"Round_1\", \"Round_2\", \"Round_3\"])\n",
    "\n",
    "BER.iloc[:,0] = [round(i, 6) for i in [0.006362068965517241, 0.0065028735632183905, 0.006922413793103448]]\n",
    "BER.iloc[:,1] = [round(i, 6) for i in [0.011158045977011494, 0.0070488505747126435, 0.009568965517241379]]\n",
    "BER.iloc[:,2] = [round(i, 6) for i in [0.019304597701149426, 0.03487068965517241, 0.020985632183908046]]\n",
    "BER.iloc[:,3] = [round(i, 6) for i in [0.006497126436781609, 0.007287356321839081, 0.005235632183908046]]\n",
    "BER.iloc[:,4] = [round(i, 6) for i in [0.0327183908045977, 0.03445689655172414, 0.024882183908045977]]\n",
    "\n",
    "BER"
   ]
  },
  {
   "cell_type": "code",
   "execution_count": 70,
   "metadata": {
    "ExecuteTime": {
     "end_time": "2021-08-06T19:05:00.572613Z",
     "start_time": "2021-08-06T19:05:00.541452Z"
    }
   },
   "outputs": [
    {
     "data": {
      "text/html": [
       "<div>\n",
       "<style scoped>\n",
       "    .dataframe tbody tr th:only-of-type {\n",
       "        vertical-align: middle;\n",
       "    }\n",
       "\n",
       "    .dataframe tbody tr th {\n",
       "        vertical-align: top;\n",
       "    }\n",
       "\n",
       "    .dataframe thead th {\n",
       "        text-align: right;\n",
       "    }\n",
       "</style>\n",
       "<table border=\"1\" class=\"dataframe\">\n",
       "  <thead>\n",
       "    <tr style=\"text-align: right;\">\n",
       "      <th></th>\n",
       "      <th>Office_1</th>\n",
       "      <th>Office_2</th>\n",
       "      <th>Office_3</th>\n",
       "      <th>3rd Floor</th>\n",
       "      <th>4th Floor</th>\n",
       "    </tr>\n",
       "  </thead>\n",
       "  <tbody>\n",
       "    <tr>\n",
       "      <th>Round_1</th>\n",
       "      <td>-78.825333</td>\n",
       "      <td>-90.244</td>\n",
       "      <td>-98.282667</td>\n",
       "      <td>-90.020000</td>\n",
       "      <td>-99.990667</td>\n",
       "    </tr>\n",
       "    <tr>\n",
       "      <th>Round_2</th>\n",
       "      <td>-77.336667</td>\n",
       "      <td>-82.826</td>\n",
       "      <td>-101.240000</td>\n",
       "      <td>-89.669333</td>\n",
       "      <td>-99.616667</td>\n",
       "    </tr>\n",
       "    <tr>\n",
       "      <th>Round_3</th>\n",
       "      <td>-77.253333</td>\n",
       "      <td>-82.556</td>\n",
       "      <td>-99.103333</td>\n",
       "      <td>-87.016667</td>\n",
       "      <td>-100.000667</td>\n",
       "    </tr>\n",
       "  </tbody>\n",
       "</table>\n",
       "</div>"
      ],
      "text/plain": [
       "          Office_1  Office_2    Office_3  3rd Floor   4th Floor\n",
       "Round_1 -78.825333   -90.244  -98.282667 -90.020000  -99.990667\n",
       "Round_2 -77.336667   -82.826 -101.240000 -89.669333  -99.616667\n",
       "Round_3 -77.253333   -82.556  -99.103333 -87.016667 -100.000667"
      ]
     },
     "execution_count": 70,
     "metadata": {},
     "output_type": "execute_result"
    }
   ],
   "source": [
    "RSS = pd.DataFrame(columns=[\"Office_1\", \"Office_2\", \"Office_3\", \"3rd Floor\", \"4th Floor\"], index=[\"Round_1\", \"Round_2\", \"Round_3\"])\n",
    "\n",
    "RSS.iloc[:,0] = [round(i, 6) for i in [-78.82533333333333, -77.33666666666667, -77.25333333333333]]\n",
    "RSS.iloc[:,1] = [round(i, 6) for i in [-90.244, -82.826, -82.556]]\n",
    "RSS.iloc[:,2] = [round(i, 6) for i in [-98.28266666666667, -101.24, -99.10333333333334]]\n",
    "RSS.iloc[:,3] = [round(i, 6) for i in [-90.02, -89.66933333333333, -87.01666666666667]]\n",
    "RSS.iloc[:,4] = [round(i, 6) for i in [-99.99066666666667, -99.61666666666666, -100.00066666666666]]\n",
    "\n",
    "RSS"
   ]
  },
  {
   "cell_type": "markdown",
   "metadata": {},
   "source": [
    "# The same floor"
   ]
  },
  {
   "cell_type": "code",
   "execution_count": 71,
   "metadata": {
    "ExecuteTime": {
     "end_time": "2021-08-06T19:05:14.900900Z",
     "start_time": "2021-08-06T19:05:14.234861Z"
    }
   },
   "outputs": [
    {
     "data": {
      "image/png": "[encoded data removed]",
      "text/plain": [
       "<Figure size 432x216 with 2 Axes>"
      ]
     },
     "metadata": {
      "needs_background": "light"
     },
     "output_type": "display_data"
    }
   ],
   "source": [
    "from pylab import rcParams\n",
    "rcParams['figure.figsize'] = 6, 3\n",
    "fig, ax1 = plt.subplots(1)\n",
    "\n",
    "dis = [6, 10, 15]\n",
    "df_BER = BER.iloc[:, :3]\n",
    "df_RSS = RSS.iloc[:, :3]\n",
    "\n",
    "ax1.plot(dis, df_BER.mean(), color='black', marker='o', markersize=8, linewidth=4, label='BER')\n",
    "ax1.set_xlabel('Receiver distance from the tag [m]', fontsize=15)\n",
    "ax1.set_ylabel('Bit error rate (BER)', fontsize=15)\n",
    "ax1.tick_params(labelsize=14)\n",
    "\n",
    "ax2=ax1.twinx()\n",
    "ax2.plot(dis, df_RSS.mean(), color='#77A136', marker='o', markersize=8, linewidth=4, linestyle='--', label='RSS')\n",
    "ax2.set_ylabel('RSS [dBm]', fontsize=15, color='#77A136')\n",
    "ax2.tick_params(labelsize=14)\n",
    "ax2.set_ylim([-110,-70])\n",
    "\n",
    "# error bar\n",
    "width=0.05\n",
    "mean = df_BER.mean()\n",
    "std = df_BER.std()\n",
    "for i in range(3):\n",
    "    d=dis[i]\n",
    "    m=mean[i]; s=std[i]/2\n",
    "    ax1.vlines(d, (m-s), (m+s))\n",
    "    ax1.hlines((m-s), d-width, d+width)\n",
    "    ax1.hlines((m+s), d-width, d+width)\n",
    "    \n",
    "mean = df_RSS.mean()\n",
    "std = df_RSS.std()\n",
    "for i in range(3):\n",
    "    d=dis[i]\n",
    "    m=mean[i]; s=std[i]/2\n",
    "    ax2.vlines(d, (m-s), (m+s), color='#77A136')\n",
    "    ax2.hlines((m-s), d-width, d+width, color='#77A136')\n",
    "    ax2.hlines((m+s), d-width, d+width, color='#77A136')\n",
    "    \n",
    "# tmp = [6, 10, 15]\n",
    "# ax1.set_xticklabels(tmp)\n",
    "# ax1.set_xticks(range(-37,12,10))\n",
    "\n",
    "ax1.grid()\n",
    "ax1.legend(fontsize=15)\n",
    "ax2.legend(fontsize=15)\n",
    "plt.tight_layout()\n",
    "plt.savefig('./bi_indoor_samefloor.pdf')"
   ]
  },
  {
   "cell_type": "code",
   "execution_count": 64,
   "metadata": {
    "ExecuteTime": {
     "end_time": "2021-08-02T13:22:14.370006Z",
     "start_time": "2021-08-02T13:22:13.977347Z"
    }
   },
   "outputs": [
    {
     "data": {
      "image/png": "[encoded data removed]",
      "text/plain": [
       "<Figure size 432x216 with 2 Axes>"
      ]
     },
     "metadata": {
      "needs_background": "light"
     },
     "output_type": "display_data"
    }
   ],
   "source": [
    "from pylab import rcParams\n",
    "rcParams['figure.figsize'] = 6, 3\n",
    "fig, ax1 = plt.subplots(1)\n",
    "\n",
    "dis = [0, 1, 2]\n",
    "\n",
    "df_BER = BER.iloc[:, [0,3,4]]\n",
    "df_RSS = RSS.iloc[:, [0,3,4]]\n",
    "\n",
    "ax1.plot(dis, df_BER.mean(), color='black', marker='o', markersize=8, linewidth=4, label='BER')\n",
    "ax1.set_xlabel('Receiver location [floor]', fontsize=15)\n",
    "ax1.set_ylabel('Bit error rate (BER)', fontsize=15)\n",
    "ax1.tick_params(labelsize=14)\n",
    "# yaxis\n",
    "# ax1.set_yscale('log')\n",
    "# tmp = [-6, -5, -4, -3, -2, -1, 0]\n",
    "# tmp = ['{:f}'.format(10**i).rstrip('0').rstrip('.') for i in tmp]\n",
    "# ax1.set_yticklabels(tmp)\n",
    "\n",
    "ax2=ax1.twinx()\n",
    "ax2.plot(dis, df_RSS.mean(), color='#77A136', marker='o', markersize=8, linewidth=4, linestyle='--', label='RSS')\n",
    "ax2.set_ylabel('RSS [dBm]', fontsize=15, color='#77A136')\n",
    "ax2.tick_params(labelsize=14)\n",
    "ax2.set_ylim([-110,-70])\n",
    "\n",
    "# error bar\n",
    "width=0.05\n",
    "mean = df_BER.mean()\n",
    "std = df_BER.std()\n",
    "for i in range(3):\n",
    "    d=dis[i]\n",
    "    m=mean[i]; s=std[i]/2\n",
    "    ax1.vlines(d, (m-s), (m+s))\n",
    "    ax1.hlines((m-s), d-width, d+width)\n",
    "    ax1.hlines((m+s), d-width, d+width)\n",
    "    \n",
    "mean = df_RSS.mean()\n",
    "std = df_RSS.std()\n",
    "for i in range(3):\n",
    "    d=dis[i]\n",
    "    m=mean[i]; s=std[i]/2\n",
    "    ax2.vlines(d, (m-s), (m+s), color='#77A136')\n",
    "    ax2.hlines((m-s), d-width, d+width, color='#77A136')\n",
    "    ax2.hlines((m+s), d-width, d+width, color='#77A136')\n",
    "\n",
    "ax1.set_xticks([0,1,2])\n",
    "tmp = ['Same', 'Third', 'Forth']\n",
    "ax1.set_xticklabels(tmp)\n",
    "\n",
    "ax1.grid()\n",
    "ax1.legend(fontsize=15)\n",
    "ax2.legend(fontsize=15)\n",
    "plt.tight_layout()\n",
    "plt.savefig('./bi_indoor_differentfloor.pdf')"
   ]
  },
  {
   "cell_type": "code",
   "execution_count": null,
   "metadata": {},
   "outputs": [],
   "source": []
  }
 ],
 "metadata": {
  "kernelspec": {
   "display_name": "Python 3",
   "language": "python",
   "name": "python3"
  },
  "language_info": {
   "codemirror_mode": {
    "name": "ipython",
    "version": 3
   },
   "file_extension": ".py",
   "mimetype": "text/x-python",
   "name": "python",
   "nbconvert_exporter": "python",
   "pygments_lexer": "ipython3",
   "version": "3.7.6"
  },
  "toc": {
   "base_numbering": 1,
   "nav_menu": {},
   "number_sections": true,
   "sideBar": true,
   "skip_h1_title": false,
   "title_cell": "Table of Contents",
   "title_sidebar": "Contents",
   "toc_cell": false,
   "toc_position": {},
   "toc_section_display": true,
   "toc_window_display": false
  },
  "varInspector": {
   "cols": {
    "lenName": 16,
    "lenType": 16,
    "lenVar": 40
   },
   "kernels_config": {
    "python": {
     "delete_cmd_postfix": "",
     "delete_cmd_prefix": "del ",
     "library": "var_list.py",
     "varRefreshCmd": "print(var_dic_list())"
    },
    "r": {
     "delete_cmd_postfix": ") ",
     "delete_cmd_prefix": "rm(",
     "library": "var_list.r",
     "varRefreshCmd": "cat(var_dic_list()) "
    }
   },
   "types_to_exclude": [
    "module",
    "function",
    "builtin_function_or_method",
    "instance",
    "_Feature"
   ],
   "window_display": false
  }
 },
 "nbformat": 4,
 "nbformat_minor": 4
}
