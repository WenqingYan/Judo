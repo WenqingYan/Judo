{
 "cells": [
  {
   "cell_type": "code",
   "execution_count": 1,
   "metadata": {
    "ExecuteTime": {
     "end_time": "2021-09-05T10:32:40.297455Z",
     "start_time": "2021-09-05T10:32:39.376712Z"
    }
   },
   "outputs": [],
   "source": [
    "import pandas as pd\n",
    "from io import StringIO\n",
    "import matplotlib.pyplot as plt\n",
    "import numpy as np\n",
    "from numpy import NaN\n",
    "\n",
    "from scipy.signal import find_peaks\n",
    "\n",
    "import matplotlib\n",
    "from pylab import rcParams\n",
    "#%matplotlib widget, camera ready submission problem\n",
    "matplotlib.rc('pdf', fonttype=42)\n",
    "matplotlib.rcParams['savefig.dpi'] = 300\n",
    "rcParams.update({'figure.autolayout': True})\n",
    "\n",
    "def readfile(filename):\n",
    "    types = {'frequency': float,'power': float}\n",
    "    df = pd.read_csv(filename, skiprows=0, header=None, error_bad_lines=False, delim_whitespace=False, delimiter=' ')\n",
    "    df.columns = ['frequency', 'power']\n",
    "    df.dropna(inplace=True)\n",
    "    #print(df.describe())\n",
    "    return df"
   ]
  },
  {
   "cell_type": "markdown",
   "metadata": {},
   "source": [
    "# Static"
   ]
  },
  {
   "cell_type": "code",
   "execution_count": 2,
   "metadata": {
    "ExecuteTime": {
     "end_time": "2021-09-05T10:32:40.336720Z",
     "start_time": "2021-09-05T10:32:40.306685Z"
    }
   },
   "outputs": [
    {
     "data": {
      "text/html": [
       "<div>\n",
       "<style scoped>\n",
       "    .dataframe tbody tr th:only-of-type {\n",
       "        vertical-align: middle;\n",
       "    }\n",
       "\n",
       "    .dataframe tbody tr th {\n",
       "        vertical-align: top;\n",
       "    }\n",
       "\n",
       "    .dataframe thead th {\n",
       "        text-align: right;\n",
       "    }\n",
       "</style>\n",
       "<table border=\"1\" class=\"dataframe\">\n",
       "  <thead>\n",
       "    <tr style=\"text-align: right;\">\n",
       "      <th></th>\n",
       "      <th>Free Running</th>\n",
       "      <th>Tx Gain 10</th>\n",
       "      <th>Tx Gain 20</th>\n",
       "      <th>Tx Gain 30</th>\n",
       "      <th>Tx Gain 40</th>\n",
       "      <th>Tx Gain 50</th>\n",
       "      <th>Tx Gain 60</th>\n",
       "      <th>Tx Gain 70</th>\n",
       "      <th>Tx Gain 80</th>\n",
       "      <th>Tx Gain 90</th>\n",
       "    </tr>\n",
       "  </thead>\n",
       "  <tbody>\n",
       "    <tr>\n",
       "      <th>0</th>\n",
       "      <td>0.001334</td>\n",
       "      <td>0.001494</td>\n",
       "      <td>0.000720</td>\n",
       "      <td>0.037539</td>\n",
       "      <td>0.000901</td>\n",
       "      <td>0.001209</td>\n",
       "      <td>0.000812</td>\n",
       "      <td>0.000013</td>\n",
       "      <td>0.005226</td>\n",
       "      <td>0.005052</td>\n",
       "    </tr>\n",
       "    <tr>\n",
       "      <th>1</th>\n",
       "      <td>0.001131</td>\n",
       "      <td>0.000894</td>\n",
       "      <td>0.000565</td>\n",
       "      <td>0.002144</td>\n",
       "      <td>0.000664</td>\n",
       "      <td>0.000795</td>\n",
       "      <td>0.005485</td>\n",
       "      <td>0.000756</td>\n",
       "      <td>0.000006</td>\n",
       "      <td>0.006804</td>\n",
       "    </tr>\n",
       "    <tr>\n",
       "      <th>2</th>\n",
       "      <td>0.002946</td>\n",
       "      <td>0.001272</td>\n",
       "      <td>0.001073</td>\n",
       "      <td>0.000735</td>\n",
       "      <td>0.026752</td>\n",
       "      <td>0.000625</td>\n",
       "      <td>0.001509</td>\n",
       "      <td>0.000899</td>\n",
       "      <td>0.000683</td>\n",
       "      <td>0.097187</td>\n",
       "    </tr>\n",
       "  </tbody>\n",
       "</table>\n",
       "</div>"
      ],
      "text/plain": [
       "   Free Running  Tx Gain 10  Tx Gain 20  Tx Gain 30  Tx Gain 40  Tx Gain 50  \\\n",
       "0      0.001334    0.001494    0.000720    0.037539    0.000901    0.001209   \n",
       "1      0.001131    0.000894    0.000565    0.002144    0.000664    0.000795   \n",
       "2      0.002946    0.001272    0.001073    0.000735    0.026752    0.000625   \n",
       "\n",
       "   Tx Gain 60  Tx Gain 70  Tx Gain 80  Tx Gain 90  \n",
       "0    0.000812    0.000013    0.005226    0.005052  \n",
       "1    0.005485    0.000756    0.000006    0.006804  \n",
       "2    0.001509    0.000899    0.000683    0.097187  "
      ]
     },
     "execution_count": 2,
     "metadata": {},
     "output_type": "execute_result"
    }
   ],
   "source": [
    "BER = pd.DataFrame(columns=[\"Free Running\", \"Tx Gain 10\", \"Tx Gain 20\", \"Tx Gain 30\", \"Tx Gain 40\", \"Tx Gain 50\", \"Tx Gain 60\", \"Tx Gain 70\", \"Tx Gain 80\", \"Tx Gain 90\"])\n",
    "\n",
    "BER.iloc[:, 0] = [round(i, 6) for i in [0.001334051724137931, 0.0011314655172413794, 0.0029461206896551724]]\n",
    "BER.iloc[:, 1] = [round(i, 6) for i in [0.0014935344827586208, 0.0008943965517241379, 0.001271551724137931]]\n",
    "BER.iloc[:, 2] = [round(i, 6) for i in [0.0007198275862068965, 0.0005646551724137932, 0.0010732758620689655]]\n",
    "BER.iloc[:, 3] = [round(i, 6) for i in [0.03753879310344828, 0.002144396551724138, 0.0007349137931034483]]\n",
    "BER.iloc[:, 4] = [round(i, 6) for i in [0.0009008620689655172, 0.0006637931034482759, 0.026752155172413795]]\n",
    "BER.iloc[:, 5] = [round(i, 6) for i in [0.001209051724137931, 0.0007952586206896551, 0.000625]]\n",
    "BER.iloc[:, 6] = [round(i, 6) for i in [0.0008125, 0.0054849137931034485, 0.0015086206896551724]]\n",
    "BER.iloc[:, 7] = [round(i, 6) for i in [1.293103448275862e-05, 0.0007564655172413793, 0.0008987068965517241]]\n",
    "BER.iloc[:, 8] = [round(i, 6) for i in [0.005226293103448276, 6.46551724137931e-06, 0.0006831896551724138]]\n",
    "BER.iloc[:, 9] = [round(i, 6) for i in [0.005051724137931034, 0.006803879310344828, 0.0971875]]\n",
    "\n",
    "BER"
   ]
  },
  {
   "cell_type": "code",
   "execution_count": 3,
   "metadata": {
    "ExecuteTime": {
     "end_time": "2021-09-05T10:32:40.554376Z",
     "start_time": "2021-09-05T10:32:40.522626Z"
    }
   },
   "outputs": [
    {
     "data": {
      "text/html": [
       "<div>\n",
       "<style scoped>\n",
       "    .dataframe tbody tr th:only-of-type {\n",
       "        vertical-align: middle;\n",
       "    }\n",
       "\n",
       "    .dataframe tbody tr th {\n",
       "        vertical-align: top;\n",
       "    }\n",
       "\n",
       "    .dataframe thead th {\n",
       "        text-align: right;\n",
       "    }\n",
       "</style>\n",
       "<table border=\"1\" class=\"dataframe\">\n",
       "  <thead>\n",
       "    <tr style=\"text-align: right;\">\n",
       "      <th></th>\n",
       "      <th>Free Running</th>\n",
       "      <th>Tx Gain 10</th>\n",
       "      <th>Tx Gain 20</th>\n",
       "      <th>Tx Gain 30</th>\n",
       "      <th>Tx Gain 40</th>\n",
       "      <th>Tx Gain 50</th>\n",
       "      <th>Tx Gain 60</th>\n",
       "      <th>Tx Gain 70</th>\n",
       "      <th>Tx Gain 80</th>\n",
       "      <th>Tx Gain 90</th>\n",
       "    </tr>\n",
       "  </thead>\n",
       "  <tbody>\n",
       "    <tr>\n",
       "      <th>0</th>\n",
       "      <td>-94.6875</td>\n",
       "      <td>-99.7575</td>\n",
       "      <td>-100.2535</td>\n",
       "      <td>-105.7540</td>\n",
       "      <td>-100.7120</td>\n",
       "      <td>-98.9800</td>\n",
       "      <td>-99.3755</td>\n",
       "      <td>-100.0060</td>\n",
       "      <td>-104.6060</td>\n",
       "      <td>-103.414</td>\n",
       "    </tr>\n",
       "    <tr>\n",
       "      <th>1</th>\n",
       "      <td>-95.4075</td>\n",
       "      <td>-95.5090</td>\n",
       "      <td>-96.8355</td>\n",
       "      <td>-98.3995</td>\n",
       "      <td>-99.2620</td>\n",
       "      <td>-101.8150</td>\n",
       "      <td>-102.9985</td>\n",
       "      <td>-101.5915</td>\n",
       "      <td>-96.7355</td>\n",
       "      <td>-103.318</td>\n",
       "    </tr>\n",
       "    <tr>\n",
       "      <th>2</th>\n",
       "      <td>-99.5880</td>\n",
       "      <td>-94.9845</td>\n",
       "      <td>-100.4480</td>\n",
       "      <td>-101.4730</td>\n",
       "      <td>-106.1505</td>\n",
       "      <td>-100.5645</td>\n",
       "      <td>-103.3170</td>\n",
       "      <td>-103.4305</td>\n",
       "      <td>-102.8845</td>\n",
       "      <td>-101.350</td>\n",
       "    </tr>\n",
       "  </tbody>\n",
       "</table>\n",
       "</div>"
      ],
      "text/plain": [
       "   Free Running  Tx Gain 10  Tx Gain 20  Tx Gain 30  Tx Gain 40  Tx Gain 50  \\\n",
       "0      -94.6875    -99.7575   -100.2535   -105.7540   -100.7120    -98.9800   \n",
       "1      -95.4075    -95.5090    -96.8355    -98.3995    -99.2620   -101.8150   \n",
       "2      -99.5880    -94.9845   -100.4480   -101.4730   -106.1505   -100.5645   \n",
       "\n",
       "   Tx Gain 60  Tx Gain 70  Tx Gain 80  Tx Gain 90  \n",
       "0    -99.3755   -100.0060   -104.6060    -103.414  \n",
       "1   -102.9985   -101.5915    -96.7355    -103.318  \n",
       "2   -103.3170   -103.4305   -102.8845    -101.350  "
      ]
     },
     "execution_count": 3,
     "metadata": {},
     "output_type": "execute_result"
    }
   ],
   "source": [
    "RSS = pd.DataFrame(columns=[\"Free Running\", \"Tx Gain 10\", \"Tx Gain 20\", \"Tx Gain 30\", \"Tx Gain 40\", \"Tx Gain 50\", \"Tx Gain 60\", \"Tx Gain 70\", \"Tx Gain 80\", \"Tx Gain 90\"])\n",
    "\n",
    "RSS.iloc[:, 0] = [round(i, 6) for i in [-94.6875, -95.4075, -99.588]]\n",
    "RSS.iloc[:, 1] = [round(i, 6) for i in [-99.7575, -95.509, -94.9845]]\n",
    "RSS.iloc[:, 2] = [round(i, 6) for i in [-100.2535, -96.8355, -100.448]]\n",
    "RSS.iloc[:, 3] = [round(i, 6) for i in [-105.754, -98.3995, -101.473]]\n",
    "RSS.iloc[:, 4] = [round(i, 6) for i in [-100.712, -99.262, -106.1505]]\n",
    "RSS.iloc[:, 5] = [round(i, 6) for i in [-98.98, -101.815, -100.5645]]\n",
    "RSS.iloc[:, 6] = [round(i, 6) for i in [-99.3755, -102.9985, -103.317]]\n",
    "RSS.iloc[:, 7] = [round(i, 6) for i in [-100.006, -101.5915, -103.4305]]\n",
    "RSS.iloc[:, 8] = [round(i, 6) for i in [-104.606, -96.7355, -102.8845]]\n",
    "RSS.iloc[:, 9] = [round(i, 6) for i in [-103.414, -103.318, -101.35]]\n",
    "\n",
    "RSS"
   ]
  },
  {
   "cell_type": "markdown",
   "metadata": {},
   "source": [
    "# Dynamic"
   ]
  },
  {
   "cell_type": "code",
   "execution_count": 4,
   "metadata": {
    "ExecuteTime": {
     "end_time": "2021-09-05T10:32:42.314132Z",
     "start_time": "2021-09-05T10:32:42.298162Z"
    }
   },
   "outputs": [],
   "source": [
    "BER_D = pd.DataFrame(columns=[\"Free running \\n Static\", \"Free running \\n Dynamic\", \"Injection locking \\n Dynamic\"], index=[\"Round_1\", \"Round_2\", \"Round_3\"])\n",
    "\n",
    "BER_D.iloc[:,0] = [round(i, 6) for i in [0.001334051724137931, 0.0011314655172413794, 0.0029461206896551724]]\n",
    "BER_D.iloc[:,1] = [round(i, 6) for i in [0.010571120689655173, 0.01591163793103448, 0.05262715517241379]]\n",
    "BER_D.iloc[:,2] = [round(i, 6) for i in [0.030336206896551723, 0.0015129310344827586, 0.006713362068965517]]\n",
    "\n",
    "RSS_D = pd.DataFrame(columns=[\"Free running \\n Static\", \"Free running \\n Dynamic\", \"Injection locking \\n Dynamic\"], index=[\"Round_1\", \"Round_2\", \"Round_3\"])\n",
    "\n",
    "RSS_D.iloc[:,0] = [round(i, 6) for i in [-94.6875, -95.4075, -99.588]]\n",
    "RSS_D.iloc[:,1] = [round(i, 6) for i in [-92.1075, -89.582, -87.6265]]\n",
    "RSS_D.iloc[:,2] = [round(i, 6) for i in [-98.388, -98.4535, -95.742]]"
   ]
  },
  {
   "cell_type": "code",
   "execution_count": 5,
   "metadata": {
    "ExecuteTime": {
     "end_time": "2021-09-05T10:32:42.579738Z",
     "start_time": "2021-09-05T10:32:42.574559Z"
    }
   },
   "outputs": [
    {
     "data": {
      "text/plain": [
       "Free running \\n Static          0.001804\n",
       "Free running \\n Dynamic         0.026370\n",
       "Injection locking \\n Dynamic    0.012854\n",
       "dtype: float64"
      ]
     },
     "execution_count": 5,
     "metadata": {},
     "output_type": "execute_result"
    }
   ],
   "source": [
    "BER_D.mean()"
   ]
  },
  {
   "cell_type": "code",
   "execution_count": 9,
   "metadata": {
    "ExecuteTime": {
     "end_time": "2021-09-05T10:34:30.507810Z",
     "start_time": "2021-09-05T10:34:30.024028Z"
    },
    "scrolled": true
   },
   "outputs": [
    {
     "data": {
      "image/png": "[encoded data removed]",
      "text/plain": [
       "<Figure size 576x216 with 1 Axes>"
      ]
     },
     "metadata": {
      "needs_background": "light"
     },
     "output_type": "display_data"
    }
   ],
   "source": [
    "from pylab import rcParams\n",
    "rcParams['figure.figsize'] = 8, 3\n",
    "fig, ax1 = plt.subplots(1)\n",
    "\n",
    "carrier = [-57, -47, -37, -27, -17, -7, 3, 13, 17]\n",
    "df_BER = BER.iloc[:, 1:]\n",
    "df_RSS = RSS.iloc[:, 1:]\n",
    "\n",
    "ax1.plot(carrier, df_BER.mean(), color='black', marker='o', markersize=8, linewidth=4, label='BER')\n",
    "ax1.set_xlabel('Carrier emitter strength [dBm]', fontsize=18)\n",
    "ax1.set_ylabel('BER', fontsize=18)\n",
    "ax1.tick_params(labelsize=14)\n",
    "\n",
    "# ax2=ax1.twinx()\n",
    "# ax2.plot(carrier, df_RSS.mean(), color='#77A136', marker='o', markersize=8, linewidth=4, linestyle='--', label='RSS')\n",
    "# ax2.set_ylabel('RSS [dBm]', fontsize=15, color='#77A136')\n",
    "# ax2.tick_params(labelsize=14)\n",
    "# ax2.set_ylim([-110,-70])\n",
    "\n",
    "# error bar\n",
    "width=1\n",
    "mean = df_BER.mean()\n",
    "std = df_BER.std()\n",
    "for i in range(len(carrier)):\n",
    "    d=carrier[i]\n",
    "    m=mean[i]; s=std[i]/2\n",
    "    ax1.vlines(d, (m-s), (m+s))\n",
    "    ax1.hlines((m-s), d-width, d+width)\n",
    "    ax1.hlines((m+s), d-width, d+width)\n",
    "    \n",
    "ax1.hlines(0.001804, -70, 27, color='grey', linewidth=4, linestyle='--', label='unaided static')\n",
    "ax1.hlines(0.026370, -70, 27, color='red', linewidth=4, linestyle='--', label='unaided dynamic')\n",
    "    \n",
    "# mean = df_RSS.mean()\n",
    "# std = df_RSS.std()\n",
    "# for i in range(len(carrier)):\n",
    "#     d=carrier[i]\n",
    "#     m=mean[i]; s=std[i]/2\n",
    "#     ax2.vlines(d, (m-s), (m+s), color='#77A136')\n",
    "#     ax2.hlines((m-s), d-width, d+width, color='#77A136')\n",
    "#     ax2.hlines((m+s), d-width, d+width, color='#77A136')\n",
    "    \n",
    "# tmp = [\"Free running \\n Static\", \"Free running \\n Dynamic\", \"Injection locking \\n Dynamic\"]\n",
    "# ax1.set_xticklabels(tmp)\n",
    "# ax1.set_xticks(range(-37,12,10))\n",
    "\n",
    "ax1.set_yscale('log')\n",
    "tmp = [-5, -4, -3, -2, -1, 0]\n",
    "tmp = ['{:f}'.format(10**i).rstrip('0').rstrip('.') for i in tmp]\n",
    "ax1.set_yticklabels(tmp)\n",
    "ax1.set_ylim([1e-4,1e-1])\n",
    "ax1.set_xlim([-60, 20])\n",
    "\n",
    "ax1.grid()\n",
    "ax1.legend(loc=\"lower center\", fontsize=15, framealpha=0.3, ncol=3)\n",
    "plt.tight_layout()\n",
    "plt.savefig('./bi_challenge.pdf')"
   ]
  },
  {
   "cell_type": "code",
   "execution_count": 93,
   "metadata": {
    "ExecuteTime": {
     "end_time": "2021-08-10T22:23:11.176829Z",
     "start_time": "2021-08-10T22:23:11.148535Z"
    }
   },
   "outputs": [
    {
     "data": {
      "text/html": [
       "<div>\n",
       "<style scoped>\n",
       "    .dataframe tbody tr th:only-of-type {\n",
       "        vertical-align: middle;\n",
       "    }\n",
       "\n",
       "    .dataframe tbody tr th {\n",
       "        vertical-align: top;\n",
       "    }\n",
       "\n",
       "    .dataframe thead th {\n",
       "        text-align: right;\n",
       "    }\n",
       "</style>\n",
       "<table border=\"1\" class=\"dataframe\">\n",
       "  <thead>\n",
       "    <tr style=\"text-align: right;\">\n",
       "      <th></th>\n",
       "      <th>Free Running</th>\n",
       "      <th>Tx Gain 10</th>\n",
       "      <th>Tx Gain 20</th>\n",
       "      <th>Tx Gain 30</th>\n",
       "      <th>Tx Gain 40</th>\n",
       "      <th>Tx Gain 50</th>\n",
       "      <th>Tx Gain 60</th>\n",
       "      <th>Tx Gain 70</th>\n",
       "      <th>Tx Gain 80</th>\n",
       "      <th>Tx Gain 90</th>\n",
       "    </tr>\n",
       "  </thead>\n",
       "  <tbody>\n",
       "    <tr>\n",
       "      <th>0</th>\n",
       "      <td>-94.6875</td>\n",
       "      <td>-99.7575</td>\n",
       "      <td>-100.2535</td>\n",
       "      <td>-105.7540</td>\n",
       "      <td>-100.7120</td>\n",
       "      <td>-98.9800</td>\n",
       "      <td>-99.3755</td>\n",
       "      <td>-100.0060</td>\n",
       "      <td>-104.6060</td>\n",
       "      <td>-103.414</td>\n",
       "    </tr>\n",
       "    <tr>\n",
       "      <th>1</th>\n",
       "      <td>-95.4075</td>\n",
       "      <td>-95.5090</td>\n",
       "      <td>-96.8355</td>\n",
       "      <td>-98.3995</td>\n",
       "      <td>-99.2620</td>\n",
       "      <td>-101.8150</td>\n",
       "      <td>-102.9985</td>\n",
       "      <td>-101.5915</td>\n",
       "      <td>-96.7355</td>\n",
       "      <td>-103.318</td>\n",
       "    </tr>\n",
       "    <tr>\n",
       "      <th>2</th>\n",
       "      <td>-99.5880</td>\n",
       "      <td>-94.9845</td>\n",
       "      <td>-100.4480</td>\n",
       "      <td>-101.4730</td>\n",
       "      <td>-106.1505</td>\n",
       "      <td>-100.5645</td>\n",
       "      <td>-103.3170</td>\n",
       "      <td>-103.4305</td>\n",
       "      <td>-102.8845</td>\n",
       "      <td>-101.350</td>\n",
       "    </tr>\n",
       "  </tbody>\n",
       "</table>\n",
       "</div>"
      ],
      "text/plain": [
       "   Free Running  Tx Gain 10  Tx Gain 20  Tx Gain 30  Tx Gain 40  Tx Gain 50  \\\n",
       "0      -94.6875    -99.7575   -100.2535   -105.7540   -100.7120    -98.9800   \n",
       "1      -95.4075    -95.5090    -96.8355    -98.3995    -99.2620   -101.8150   \n",
       "2      -99.5880    -94.9845   -100.4480   -101.4730   -106.1505   -100.5645   \n",
       "\n",
       "   Tx Gain 60  Tx Gain 70  Tx Gain 80  Tx Gain 90  \n",
       "0    -99.3755   -100.0060   -104.6060    -103.414  \n",
       "1   -102.9985   -101.5915    -96.7355    -103.318  \n",
       "2   -103.3170   -103.4305   -102.8845    -101.350  "
      ]
     },
     "execution_count": 93,
     "metadata": {},
     "output_type": "execute_result"
    }
   ],
   "source": [
    "RSS"
   ]
  },
  {
   "cell_type": "code",
   "execution_count": 96,
   "metadata": {
    "ExecuteTime": {
     "end_time": "2021-08-10T22:24:04.748140Z",
     "start_time": "2021-08-10T22:24:04.510182Z"
    }
   },
   "outputs": [
    {
     "data": {
      "image/png": "[encoded data removed]",
      "text/plain": [
       "<Figure size 576x288 with 1 Axes>"
      ]
     },
     "metadata": {
      "needs_background": "light"
     },
     "output_type": "display_data"
    }
   ],
   "source": [
    "from pylab import rcParams\n",
    "rcParams['figure.figsize'] = 8, 4\n",
    "fig, ax1 = plt.subplots(1)\n",
    "\n",
    "carrier = [-57, -47, -37, -27, -17, -7, 3, 13, 17]\n",
    "df_RSS = RSS.iloc[:, 1:]\n",
    "\n",
    "ax1.plot(carrier, df_RSS.mean(), color='black', marker='o', markersize=8, linewidth=4, label='RSS')\n",
    "ax1.set_xlabel('Carrier emitter strength [dBm]', fontsize=20)\n",
    "ax1.set_ylabel('Bit error rate (RSS)', fontsize=20)\n",
    "ax1.tick_params(labelsize=14)\n",
    "\n",
    "# ax2=ax1.twinx()\n",
    "# ax2.plot(carrier, df_RSS.mean(), color='#77A136', marker='o', markersize=8, linewidth=4, linestyle='--', label='RSS')\n",
    "# ax2.set_ylabel('RSS [dBm]', fontsize=15, color='#77A136')\n",
    "# ax2.tick_params(labelsize=14)\n",
    "# ax2.set_ylim([-110,-70])\n",
    "\n",
    "# error bar\n",
    "width=1\n",
    "mean = df_RSS.mean()\n",
    "std = df_RSS.std()\n",
    "for i in range(len(carrier)):\n",
    "    d=carrier[i]\n",
    "    m=mean[i]; s=std[i]/2\n",
    "    ax1.vlines(d, (m-s), (m+s))\n",
    "    ax1.hlines((m-s), d-width, d+width)\n",
    "    ax1.hlines((m+s), d-width, d+width)\n",
    "    \n",
    "# ax1.hlines(0.001804, -70, 27, color='grey', linewidth=4, linestyle='--', label='unaided static')\n",
    "# ax1.hlines(0.026370, -70, 27, color='red', linewidth=4, linestyle='--', label='unaided dynamic')\n",
    "    \n",
    "# mean = df_RSS.mean()\n",
    "# std = df_RSS.std()\n",
    "# for i in range(len(carrier)):\n",
    "#     d=carrier[i]\n",
    "#     m=mean[i]; s=std[i]/2\n",
    "#     ax2.vlines(d, (m-s), (m+s), color='#77A136')\n",
    "#     ax2.hlines((m-s), d-width, d+width, color='#77A136')\n",
    "#     ax2.hlines((m+s), d-width, d+width, color='#77A136')\n",
    "    \n",
    "# tmp = [\"Free running \\n Static\", \"Free running \\n Dynamic\", \"Injection locking \\n Dynamic\"]\n",
    "# ax1.set_xticklabels(tmp)\n",
    "# ax1.set_xticks(range(-37,12,10))\n",
    "\n",
    "# ax1.set_yscale('log')\n",
    "# tmp = [-5, -4, -3, -2, -1, 0]\n",
    "# tmp = ['{:f}'.format(10**i).rstrip('0').rstrip('.') for i in tmp]\n",
    "# ax1.set_yticklabels(tmp)\n",
    "# ax1.set_ylim([1e-4,1e-1])\n",
    "ax1.set_xlim([-60, 20])\n",
    "\n",
    "ax1.grid()\n",
    "ax1.legend(loc=\"lower center\", fontsize=15, framealpha=0.3)\n",
    "plt.tight_layout()\n",
    "# plt.savefig('./bi_challenge.pdf')"
   ]
  },
  {
   "cell_type": "code",
   "execution_count": 68,
   "metadata": {
    "ExecuteTime": {
     "end_time": "2021-08-02T13:24:22.187074Z",
     "start_time": "2021-08-02T13:24:21.960253Z"
    }
   },
   "outputs": [
    {
     "data": {
      "image/png": "[encoded data removed]",
      "text/plain": [
       "<Figure size 432x216 with 1 Axes>"
      ]
     },
     "metadata": {
      "needs_background": "light"
     },
     "output_type": "display_data"
    }
   ],
   "source": [
    "from pylab import rcParams\n",
    "rcParams['figure.figsize'] = 6, 3\n",
    "fig, ax1 = plt.subplots(1)\n",
    "\n",
    "# xlabel = [\"Free running \\n Static\", \"Free running \\n Dynamic\", \"Injection locking \\n Static\", \"Injection locking \\n Dynamic\"]\n",
    "# ax1.bar(xlabel, df_BER.mean(), color='black', width=0.2)\n",
    "boxprops = dict(linewidth=2.0, color='black')\n",
    "whiskerprops = dict(linestyle='-', linewidth=2.0, color='black')\n",
    "capprops = dict(linestyle='-', linewidth=2.0, color='black')\n",
    "meanprops = dict(linestyle='-', linewidth=2.0, color='#77A136')\n",
    "medianprops = dict(linestyle='-', linewidth=0, color='white')\n",
    "ax1.boxplot(BER_D.T, widths=0.3, meanline=True, showmeans=True, boxprops=boxprops,\n",
    "            whiskerprops=whiskerprops, capprops=capprops, meanprops=meanprops, medianprops=medianprops)\n",
    "\n",
    "ax1.set_yscale('log')\n",
    "tmp = [-4, -3, -2, -1]\n",
    "tmp = ['{:f}'.format(10**i).rstrip('0').rstrip('.') for i in tmp]\n",
    "ax1.set_yticklabels(tmp)\n",
    "ax1.set_ylim([1e-3,1e-1])\n",
    "ax1.set_xticklabels([\"Free running \\n Static\", \"Free running \\n Dynamic\", \"Injection locking \\n Dynamic\"])\n",
    "ax1.tick_params(labelsize=13)\n",
    "\n",
    "ax1.grid()\n",
    "ax1.set_ylabel(\"Bit error rate (BER)\", fontsize=16)\n",
    "\n",
    "ax1.tick_params(labelsize=14)\n",
    "\n",
    "# plt.savefig('./reliability.pdf')"
   ]
  },
  {
   "cell_type": "markdown",
   "metadata": {},
   "source": []
  }
 ],
 "metadata": {
  "kernelspec": {
   "display_name": "Python 3",
   "language": "python",
   "name": "python3"
  },
  "language_info": {
   "codemirror_mode": {
    "name": "ipython",
    "version": 3
   },
   "file_extension": ".py",
   "mimetype": "text/x-python",
   "name": "python",
   "nbconvert_exporter": "python",
   "pygments_lexer": "ipython3",
   "version": "3.7.6"
  },
  "toc": {
   "base_numbering": 1,
   "nav_menu": {},
   "number_sections": true,
   "sideBar": true,
   "skip_h1_title": false,
   "title_cell": "Table of Contents",
   "title_sidebar": "Contents",
   "toc_cell": false,
   "toc_position": {},
   "toc_section_display": true,
   "toc_window_display": false
  },
  "varInspector": {
   "cols": {
    "lenName": 16,
    "lenType": 16,
    "lenVar": 40
   },
   "kernels_config": {
    "python": {
     "delete_cmd_postfix": "",
     "delete_cmd_prefix": "del ",
     "library": "var_list.py",
     "varRefreshCmd": "print(var_dic_list())"
    },
    "r": {
     "delete_cmd_postfix": ") ",
     "delete_cmd_prefix": "rm(",
     "library": "var_list.r",
     "varRefreshCmd": "cat(var_dic_list()) "
    }
   },
   "types_to_exclude": [
    "module",
    "function",
    "builtin_function_or_method",
    "instance",
    "_Feature"
   ],
   "window_display": false
  }
 },
 "nbformat": 4,
 "nbformat_minor": 4
}
